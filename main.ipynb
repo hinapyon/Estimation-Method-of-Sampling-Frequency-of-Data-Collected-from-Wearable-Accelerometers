{
 "cells": [
  {
   "cell_type": "code",
   "execution_count": null,
   "metadata": {},
   "outputs": [],
   "source": [
    "#ライブラリをインポート\n",
    "import csv\n",
    "import math\n",
    "import matplotlib.pyplot as plt\n",
    "import numpy as np\n",
    "import pandas as pd"
   ]
  },
  {
   "cell_type": "code",
   "execution_count": null,
   "metadata": {},
   "outputs": [],
   "source": [
    "#マクロを定義\n",
    "BINS = 10000  #ヒストグラムのビンの数\n",
    "EPSILON = .00001  #スムージングパラメータ\n",
    "UPPER_LIMIT = 1.1 #静止区間の上限\n",
    "LOWER_LIMIT = 0.9 #静止区間の加減\n",
    "STATIONARY_INTERVALS = 5  #静止区間除去のサンプルの間隔(何サンプル静止区間が連続したら除去するか)"
   ]
  },
  {
   "cell_type": "code",
   "execution_count": null,
   "metadata": {},
   "outputs": [],
   "source": [
    "#加速度データのCSVファイルから3軸加速度を取り出す関数\n",
    "def retrieve_acceleration(filename):\n",
    "    accX = []\n",
    "    accY = []\n",
    "    accZ = []\n",
    "    #ｘ軸,y軸,z軸の値を配列に格納\n",
    "    with open(filename) as f:\n",
    "        reader = csv.reader(f)\n",
    "        for row in reader:\n",
    "            accX.append(float(row[1]))\n",
    "            accY.append(float(row[2]))\n",
    "            accZ.append(float(row[3]))\n",
    "    return accX, accY, accZ"
   ]
  },
  {
   "cell_type": "code",
   "execution_count": null,
   "metadata": {},
   "outputs": [],
   "source": [
    "#静止区間除去関数\n",
    "def remove_stationary_intervals(accX, accY, accZ):\n",
    "\n",
    "    #各軸の加速度の平均を求める\n",
    "    accAveX = sum(accX) / len(accX)\n",
    "    accAveY = sum(accY) / len(accY)\n",
    "    accAveZ = sum(accZ) / len(accZ)\n",
    "\n",
    "    #重力加速度の推定値=合成加速度の平均を求める\n",
    "    accResAve = math.sqrt(accAveX ** 2 + accAveY ** 2 + accAveZ ** 2)\n",
    "\n",
    "    #各時刻の合成加速度を求める\n",
    "    accRes = [math.sqrt(x ** 2 + y ** 2 + z ** 2) for x, y, z in zip(accX, accY, accZ)]\n",
    "\n",
    "    #各時刻の合成加速度から静止区間(重力加速度の推定値に近い値が一定以上以上連続している区間)を除去する\n",
    "    i=0 #ループ変数\n",
    "    counter = 0 #静止区間がSTATIONARY_INTERVALS分続いているかをカウントする変数\n",
    "    while i < len(accRes):\n",
    "        if accResAve * LOWER_LIMIT < accRes[i] < accResAve * UPPER_LIMIT:   #平均のLOWER_LIMIT倍~UPPER_LIMIT倍の範囲を調べる\n",
    "            counter += 1    #範囲内ならカウントを増やす\n",
    "            if counter == STATIONARY_INTERVALS: #カウントがSTATIONARY_INTERVALSに達したらその区間を削除\n",
    "                del accRes[i+1-STATIONARY_INTERVALS:i+1]    #スライスでは選択範囲の開始位置startと終了位置stopを[start:stop]のように書く。start <= x < stopの範囲が選択される。start番目の値は含まれるがstop番目の値は含まれない。\n",
    "                counter = 0\n",
    "                i -= STATIONARY_INTERVALS   #削除した分インデックスがズレるので補正する\n",
    "        else:\n",
    "            counter = 0\n",
    "        i += 1\n",
    "\n",
    "    return accRes   #静止区間を除去した後のリストを返す"
   ]
  },
  {
   "cell_type": "code",
   "execution_count": null,
   "metadata": {},
   "outputs": [],
   "source": [
    "#連続する2サンプルの差分を取る関数\n",
    "def differences_of_acceleration(accRes):\n",
    "    index = 0\n",
    "    accDif = []\n",
    "    for dif in accRes[:-1]:\n",
    "        accDif.append(math.fabs(accRes[index + 1]*100000 - accRes[index]*100000))\n",
    "        index += 1\n",
    "\n",
    "    return accDif"
   ]
  },
  {
   "cell_type": "code",
   "execution_count": null,
   "metadata": {},
   "outputs": [],
   "source": [
    "#KLダイバージェンス関数\n",
    "def KL_divergence(a, b):\n",
    "    min_value = min(min(a), min(b)) #a,bの最小値の小さい方\n",
    "    max_value = max(max(a), max(b)) #a,bの最大値の大きい方\n",
    "\n",
    "    #a,bのヒストグラムを作成し、同じ数のビンで区切る\n",
    "    a_hist, _ = np.histogram(a, bins=BINS, range=(min_value, max_value))\n",
    "    b_hist, _ = np.histogram(b, bins=BINS, range=(min_value, max_value))\n",
    "\n",
    "    #正規化する(確率分布に変換する、合計を1にする)ために全合計で割る\n",
    "    a_hist = (a_hist + EPSILON) / a_hist.sum()\n",
    "    b_hist = (b_hist + EPSILON) / b_hist.sum()\n",
    "\n",
    "    #KLダイバージェンスの値を返す\n",
    "    return np.sum([ai * np.log(ai / bi) for ai, bi in zip(a_hist, b_hist)])"
   ]
  },
  {
   "cell_type": "code",
   "execution_count": null,
   "metadata": {},
   "outputs": [],
   "source": [
    "#ファイルを読み込む\n",
    "number = 1046\n",
    "filename1 = \"walk100Hz-0809-0900.csv\".format(number)\n",
    "filename2 = \"walk100Hz-0809-1000.csv\".format(number)"
   ]
  },
  {
   "cell_type": "code",
   "execution_count": null,
   "metadata": {},
   "outputs": [],
   "source": [
    "accX1, accY1, accZ1 = retrieve_acceleration(filename1)\n",
    "accX2, accY2, accZ2 = retrieve_acceleration(filename2)"
   ]
  },
  {
   "cell_type": "code",
   "execution_count": null,
   "metadata": {},
   "outputs": [],
   "source": [
    "print(accX1[:5])\n",
    "print(accY1[:5])\n",
    "print(accZ1[:5])"
   ]
  },
  {
   "cell_type": "code",
   "execution_count": null,
   "metadata": {},
   "outputs": [],
   "source": [
    "print(sum(accX1))\n",
    "print(sum(accY1))\n",
    "print(sum(accZ1))"
   ]
  },
  {
   "cell_type": "code",
   "execution_count": null,
   "metadata": {},
   "outputs": [],
   "source": [
    "accAveX1 = sum(accX1) / len(accX1)\n",
    "accAveY1 = sum(accY1) / len(accY1)\n",
    "accAveZ1 = sum(accZ1) / len(accZ1)\n",
    "\n",
    "#重力加速度の推定値=合成加速度の平均を求める\n",
    "accResAve1 = math.sqrt(accAveX1 ** 2 + accAveY1 ** 2 + accAveZ1 ** 2)\n",
    "\n",
    "print(accAveX1, accAveY1, accAveZ1, accResAve1)"
   ]
  },
  {
   "cell_type": "code",
   "execution_count": null,
   "metadata": {},
   "outputs": [],
   "source": [
    "#各時刻の合成加速度を求める\n",
    "accRes1 = [math.sqrt(x ** 2 + y ** 2 + z ** 2) for x, y, z in zip(accX1, accY1, accZ1)]\n",
    "\n",
    "print(accRes1[:5])\n",
    "len(accRes1)"
   ]
  },
  {
   "cell_type": "code",
   "execution_count": null,
   "metadata": {},
   "outputs": [],
   "source": [
    "print(accRes1[:5])\n",
    "len(accRes1)"
   ]
  },
  {
   "cell_type": "code",
   "execution_count": null,
   "metadata": {},
   "outputs": [],
   "source": [
    "i=0 #ループ変数\n",
    "counter = 0 #静止区間がSTATIONARY_INTERVALS分続いているかをカウントする変数\n",
    "while i < len(accRes1):\n",
    "    if accResAve1 * LOWER_LIMIT < accRes1[i] < accResAve1 * UPPER_LIMIT:   #平均のLOWER_LIMIT倍~UPPER_LIMIT倍の範囲を調べる\n",
    "        counter += 1    #範囲内ならカウントを増やす\n",
    "        if counter == STATIONARY_INTERVALS: #カウントがSTATIONARY_INTERVALSに達したらその区間を削除\n",
    "            del accRes1[i-4:i+1]    #スライスでは選択範囲の開始位置startと終了位置stopを[start:stop]のように書く。start <= x < stopの範囲が選択される。start番目の値は含まれるがstop番目の値は含まれない。\n",
    "            counter = 0\n",
    "            i -= 5   #削除した分インデックスがズレるので補正する\n",
    "    else:\n",
    "        counter = 0\n",
    "    i += 1\n",
    "\n",
    "print(i, accRes1[:5], len(accRes1))"
   ]
  },
  {
   "cell_type": "code",
   "execution_count": null,
   "metadata": {},
   "outputs": [],
   "source": [
    "accDif1 = differences_of_acceleration(acc1)\n",
    "accDif2 = differences_of_acceleration(acc2)"
   ]
  },
  {
   "cell_type": "code",
   "execution_count": null,
   "metadata": {},
   "outputs": [],
   "source": [
    "i=0\n",
    "counter = 0\n",
    "while i < len(acc):\n",
    "    if accAve * 0.9 < acc[i] < accAve * 1.1:\n",
    "        counter += 1\n",
    "        if counter == 5:\n",
    "            del acc[i-4:i+1]\n",
    "            counter = 0\n",
    "            i -= 5\n",
    "    else:\n",
    "        counter = 0\n",
    "    i += 1"
   ]
  },
  {
   "cell_type": "code",
   "execution_count": null,
   "metadata": {},
   "outputs": [],
   "source": [
    "acc=[1.0, 1.4, 0.6, 0.91, 1.09, 1.08, 0.92, 1.05, 0.95, 1.3, 0.7]\n",
    "accAve = sum(acc) / len(acc)\n",
    "accAve"
   ]
  },
  {
   "cell_type": "code",
   "execution_count": null,
   "metadata": {},
   "outputs": [],
   "source": [
    "start = None\n",
    "end = None\n",
    "counter = 0\n",
    "for i in range(len(acc)):\n",
    "    if accAve * 0.9 <= acc[i] <= accAve * 1.1:\n",
    "        if start is None:\n",
    "            start = i\n",
    "        end = i\n",
    "        counter += 1\n",
    "        if counter == 5:\n",
    "            if start is not None and end is not None:\n",
    "                del acc[start:end+1]\n",
    "                start = None\n",
    "                end = None\n",
    "                counter = 0\n",
    "                i -= 5\n",
    "    else:\n",
    "        start = None\n",
    "        end = None\n",
    "        counter = 0\n",
    "\n",
    "print(acc)"
   ]
  },
  {
   "cell_type": "code",
   "execution_count": null,
   "metadata": {},
   "outputs": [],
   "source": [
    "accAve = sum(acc) / len(acc)\n",
    "start = None\n",
    "end = None\n",
    "counter = 0\n",
    "while True:\n",
    "    for i in range(len(acc)):\n",
    "        if accAve * 0.9 <= acc[i] <= accAve * 1.1:\n",
    "            if start is None:\n",
    "                start = i\n",
    "            end = i\n",
    "            counter += 1\n",
    "            if counter == 5:\n",
    "                if start is not None and end is not None:\n",
    "                    del acc[start:end+1]\n",
    "                    start = None\n",
    "                    end = None\n",
    "                    counter = 0\n",
    "                    break\n",
    "        else:\n",
    "            start = None\n",
    "            end = None\n",
    "            counter = 0\n",
    "    else:\n",
    "        break\n",
    "    \n",
    "acc"
   ]
  },
  {
   "cell_type": "code",
   "execution_count": 110,
   "metadata": {},
   "outputs": [
    {
     "data": {
      "text/plain": [
       "1.0"
      ]
     },
     "execution_count": 110,
     "metadata": {},
     "output_type": "execute_result"
    }
   ],
   "source": [
    "accRes=[1.0, 1.4, 0.6, 0.91, 1.09, 1.08, 0.92, 1.05, 0.95, 1.3, 0.7]\n",
    "accResAve = sum(accRes) / len(accRes)\n",
    "accResAve"
   ]
  },
  {
   "cell_type": "code",
   "execution_count": 113,
   "metadata": {},
   "outputs": [
    {
     "ename": "KeyboardInterrupt",
     "evalue": "",
     "output_type": "error",
     "traceback": [
      "\u001b[0;31m---------------------------------------------------------------------------\u001b[0m",
      "\u001b[0;31mKeyboardInterrupt\u001b[0m                         Traceback (most recent call last)",
      "\u001b[0;32m/var/folders/j4/hqn03zs10mz2f196kq9g8rx80000gn/T/ipykernel_92325/1168438715.py\u001b[0m in \u001b[0;36m<module>\u001b[0;34m\u001b[0m\n\u001b[1;32m      2\u001b[0m \u001b[0mcounter\u001b[0m \u001b[0;34m=\u001b[0m \u001b[0;36m0\u001b[0m \u001b[0;31m#静止区間がSTATIONARY_INTERVALS分続いているかをカウントする変数\u001b[0m\u001b[0;34m\u001b[0m\u001b[0;34m\u001b[0m\u001b[0m\n\u001b[1;32m      3\u001b[0m \u001b[0;32mwhile\u001b[0m \u001b[0mi\u001b[0m \u001b[0;34m<\u001b[0m \u001b[0mlen\u001b[0m\u001b[0;34m(\u001b[0m\u001b[0maccRes\u001b[0m\u001b[0;34m)\u001b[0m\u001b[0;34m:\u001b[0m\u001b[0;34m\u001b[0m\u001b[0;34m\u001b[0m\u001b[0m\n\u001b[0;32m----> 4\u001b[0;31m     \u001b[0;32mif\u001b[0m \u001b[0maccRes\u001b[0m\u001b[0;34m[\u001b[0m\u001b[0mi\u001b[0m\u001b[0;34m]\u001b[0m \u001b[0;34m<\u001b[0m \u001b[0maccResAve\u001b[0m \u001b[0;34m*\u001b[0m \u001b[0;36m1.1\u001b[0m \u001b[0;32mand\u001b[0m \u001b[0maccRes\u001b[0m\u001b[0;34m[\u001b[0m\u001b[0mi\u001b[0m\u001b[0;34m]\u001b[0m \u001b[0;34m>\u001b[0m \u001b[0maccResAve\u001b[0m \u001b[0;34m*\u001b[0m \u001b[0;36m0.9\u001b[0m\u001b[0;34m:\u001b[0m   \u001b[0;31m#平均のLOWER_LIMIT倍~UPPER_LIMIT倍の範囲を調べる\u001b[0m\u001b[0;34m\u001b[0m\u001b[0;34m\u001b[0m\u001b[0m\n\u001b[0m\u001b[1;32m      5\u001b[0m         \u001b[0mcounter\u001b[0m \u001b[0;34m+=\u001b[0m \u001b[0;36m1\u001b[0m    \u001b[0;31m#範囲内ならカウントを増やす\u001b[0m\u001b[0;34m\u001b[0m\u001b[0;34m\u001b[0m\u001b[0m\n\u001b[1;32m      6\u001b[0m         \u001b[0;32mif\u001b[0m \u001b[0mcounter\u001b[0m \u001b[0;34m==\u001b[0m \u001b[0;36m5\u001b[0m\u001b[0;34m:\u001b[0m \u001b[0;31m#カウントがSTATIONARY_INTERVALSに達したらその区間を削除\u001b[0m\u001b[0;34m\u001b[0m\u001b[0;34m\u001b[0m\u001b[0m\n",
      "\u001b[0;31mKeyboardInterrupt\u001b[0m: "
     ]
    }
   ],
   "source": [
    "i=0 #ループ変数\n",
    "counter = 0 #静止区間がSTATIONARY_INTERVALS分続いているかをカウントする変数\n",
    "while i < len(accRes):\n",
    "    if accRes[i] < accResAve * 1.1 and accRes[i] > accResAve * 0.9:   #平均のLOWER_LIMIT倍~UPPER_LIMIT倍の範囲を調べる\n",
    "        counter += 1    #範囲内ならカウントを増やす\n",
    "        if counter == 5: #カウントがSTATIONARY_INTERVALSに達したらその区間を削除\n",
    "            del accRes[i-4:i+1]    #スライスでは選択範囲の開始位置startと終了位置stopを[start:stop]のように書く。start <= x < stopの範囲が選択される。start番目の値は含まれるがstop番目の値は含まれない。\n",
    "            counter = 0\n",
    "            i -= 5   #削除した分インデックスがズレるので補正する\n",
    "        else:\n",
    "            counter = 0\n",
    "        i += 1"
   ]
  },
  {
   "cell_type": "code",
   "execution_count": 1,
   "metadata": {},
   "outputs": [
    {
     "name": "stdout",
     "output_type": "stream",
     "text": [
      "[1.0, 1.4, 0.6, 0.95, 1.3, 0.7]\n"
     ]
    }
   ],
   "source": [
    "accRes=[1.0, 1.4, 0.6, 0.91, 1.09, 1.08, 0.92, 1.05, 0.95, 1.3, 0.7]\n",
    "accResAve = sum(accRes) / len(accRes)\n",
    "\n",
    "start = None\n",
    "end = None\n",
    "counter = 0\n",
    "while True:\n",
    "    for i in range(len(accRes)):\n",
    "        if accResAve * 0.9 <= accRes[i] <= accResAve * 1.1:\n",
    "            if start is None:\n",
    "                start = i\n",
    "            end = i\n",
    "            counter += 1\n",
    "            if counter == 5:\n",
    "                if start is not None and end is not None:\n",
    "                    del accRes[start:end+1]\n",
    "                    start = None\n",
    "                    end = None\n",
    "                    counter = 0\n",
    "                    break\n",
    "        else:\n",
    "            start = None\n",
    "            end = None\n",
    "            counter = 0\n",
    "    else:\n",
    "        break\n",
    "\n",
    "print(accRes)\n"
   ]
  },
  {
   "cell_type": "code",
   "execution_count": 2,
   "metadata": {},
   "outputs": [
    {
     "name": "stdout",
     "output_type": "stream",
     "text": [
      "[1.0, 1.4, 0.6, 1.05, 0.95, 1.3, 0.7]\n"
     ]
    }
   ],
   "source": [
    "accRes=[1.0, 1.4, 0.6, 0.91, 1.09, 1.08, 0.92, 1.05, 0.95, 1.3, 0.7]\n",
    "accResAve = sum(accRes) / len(accRes)\n",
    "\n",
    "index = 0\n",
    "n = 0\n",
    "for stop in accRes:\n",
    "    if accResAve * 0.9 <= stop <= accResAve * 1.1:\n",
    "        index += 1\n",
    "    else:\n",
    "        index = 0\n",
    "    if index == 5:\n",
    "        del accRes[n-4:n]\n",
    "        index = 0\n",
    "    n += 1\n",
    "\n",
    "print(accRes)"
   ]
  },
  {
   "cell_type": "code",
   "execution_count": null,
   "metadata": {},
   "outputs": [],
   "source": []
  }
 ],
 "metadata": {
  "kernelspec": {
   "display_name": "base",
   "language": "python",
   "name": "python3"
  },
  "language_info": {
   "codemirror_mode": {
    "name": "ipython",
    "version": 3
   },
   "file_extension": ".py",
   "mimetype": "text/x-python",
   "name": "python",
   "nbconvert_exporter": "python",
   "pygments_lexer": "ipython3",
   "version": "3.9.7"
  },
  "vscode": {
   "interpreter": {
    "hash": "919e6181955fbc636a96e4fdb04fb1b969c9681582829f05a2534c8d07862e2e"
   }
  }
 },
 "nbformat": 4,
 "nbformat_minor": 2
}
