{
 "cells": [
  {
   "cell_type": "code",
   "execution_count": 68,
   "id": "75219e3b",
   "metadata": {},
   "outputs": [],
   "source": [
    "import csv\n",
    "import math\n",
    "import matplotlib.pyplot as plt\n",
    "import numpy as np\n",
    "import pandas as pd"
   ]
  },
  {
   "cell_type": "code",
   "execution_count": 69,
   "id": "2d5222db",
   "metadata": {},
   "outputs": [],
   "source": [
    "accX = []\n",
    "accY = []\n",
    "accZ = []"
   ]
  },
  {
   "cell_type": "code",
   "execution_count": 70,
   "id": "91b52b7c",
   "metadata": {},
   "outputs": [],
   "source": [
    "number = 1046\n",
    "filename = \"walk100Hz-0809-0900.csv\".format(number)"
   ]
  },
  {
   "cell_type": "code",
   "execution_count": 71,
   "id": "baaa1a5b",
   "metadata": {},
   "outputs": [],
   "source": [
    "with open(filename) as f: #ｘ軸,y軸,z軸の値を配列に格納\n",
    "    reader = csv.reader(f)\n",
    "    for row in reader:\n",
    "        accX.append(float(row[1]))\n",
    "        accY.append(float(row[2]))\n",
    "        accZ.append(float(row[3]))"
   ]
  },
  {
   "cell_type": "code",
   "execution_count": 72,
   "id": "49c79bb6",
   "metadata": {},
   "outputs": [],
   "source": [
    "#3軸それぞれの加速度の平均を計算\n",
    "sumX:float = 0\n",
    "sumY:float = 0\n",
    "sumZ:float = 0"
   ]
  },
  {
   "cell_type": "code",
   "execution_count": 73,
   "id": "4543c6ba",
   "metadata": {},
   "outputs": [],
   "source": [
    "index = 0\n",
    "for add in accX:\n",
    "    sumX = sumX + accX[index]\n",
    "    index += 1\n",
    "\n",
    "index = 0\n",
    "for add in accY:\n",
    "    sumY = sumY + accY[index]\n",
    "    index += 1\n",
    "\n",
    "index = 0\n",
    "for add in accZ:\n",
    "    sumZ = sumZ + accZ[index]\n",
    "    index += 1"
   ]
  },
  {
   "cell_type": "code",
   "execution_count": 74,
   "id": "9f3b3637",
   "metadata": {},
   "outputs": [
    {
     "name": "stdout",
     "output_type": "stream",
     "text": [
      "33680826.00137324\n"
     ]
    }
   ],
   "source": [
    "\n",
    "aveX = sumX / index\n",
    "aveY = sumY / index\n",
    "aveZ = sumZ / index\n",
    "\n",
    "#加速度の平均の合成値\n",
    "aveAcc = math.sqrt(aveX * aveX + aveY * aveY + aveZ * aveZ)\n",
    "print(aveAcc)"
   ]
  },
  {
   "cell_type": "code",
   "execution_count": 75,
   "id": "418b8a8d",
   "metadata": {},
   "outputs": [],
   "source": [
    "#それぞれの加速度の合成値\n",
    "index = 0\n",
    "acc = []\n",
    "for walk in zip(accX, accY, accZ):\n",
    "    com = math.sqrt(accX[index] * accX[index] + accY[index] * accY[index] + accZ[index] * accZ[index])\n",
    "    acc.append(com)\n",
    "    index += 1"
   ]
  },
  {
   "cell_type": "code",
   "execution_count": 76,
   "id": "604c80b7",
   "metadata": {},
   "outputs": [
    {
     "name": "stdout",
     "output_type": "stream",
     "text": [
      "[32443943.12708283, 32443953.18853604, 32443963.305498004, 32443973.30363897, 32443983.340506032]\n"
     ]
    },
    {
     "data": {
      "text/plain": [
       "247378"
      ]
     },
     "execution_count": 76,
     "metadata": {},
     "output_type": "execute_result"
    }
   ],
   "source": [
    "print(acc[:5])\n",
    "len(acc)"
   ]
  },
  {
   "cell_type": "code",
   "execution_count": 77,
   "id": "b0a6a154",
   "metadata": {},
   "outputs": [],
   "source": [
    "#それぞれの加速度の合成値が加速度の平均の合成値の0.9倍から1.1倍が続くと静止とする\n",
    "index = 0\n",
    "n = 0\n",
    "for stop in acc:\n",
    "    if stop < aveAcc * 1.1 and stop > aveAcc * 0.9:\n",
    "        index += 1\n",
    "        if index == 5:\n",
    "            del acc[n-5:n]\n",
    "            index = 0\n",
    "    else:\n",
    "        index = 0\n",
    "    n += 1"
   ]
  },
  {
   "cell_type": "code",
   "execution_count": 78,
   "id": "d352e950",
   "metadata": {},
   "outputs": [
    {
     "name": "stdout",
     "output_type": "stream",
     "text": [
      "[32443943.12708283, 32443953.18853604, 32443963.305498004, 32443973.30363897, 32444032.819831338]\n"
     ]
    },
    {
     "data": {
      "text/plain": [
       "123693"
      ]
     },
     "execution_count": 78,
     "metadata": {},
     "output_type": "execute_result"
    }
   ],
   "source": [
    "print(acc[:5])\n",
    "len(acc)"
   ]
  },
  {
   "cell_type": "code",
   "execution_count": 79,
   "id": "49bd208d",
   "metadata": {},
   "outputs": [],
   "source": [
    "#差分をとる\n",
    "index = 0\n",
    "accDif = []\n",
    "for dif in acc[:-1]:\n",
    "    accDif.append(math.fabs(acc[index + 1]*100000 - acc[index]*100000))\n",
    "    index += 1"
   ]
  },
  {
   "cell_type": "code",
   "execution_count": 80,
   "id": "3112803c",
   "metadata": {},
   "outputs": [
    {
     "name": "stdout",
     "output_type": "stream",
     "text": [
      "[1006145.3212890625, 1011696.1962890625, 999814.0966796875, 5951619.236816406, 996822.4311523438]\n"
     ]
    },
    {
     "data": {
      "text/plain": [
       "123692"
      ]
     },
     "execution_count": 80,
     "metadata": {},
     "output_type": "execute_result"
    }
   ],
   "source": [
    "print(accDif[:5])\n",
    "len(accDif)"
   ]
  },
  {
   "cell_type": "code",
   "execution_count": null,
   "id": "10283ab2",
   "metadata": {},
   "outputs": [],
   "source": []
  }
 ],
 "metadata": {
  "kernelspec": {
   "display_name": "base",
   "language": "python",
   "name": "python3"
  },
  "language_info": {
   "codemirror_mode": {
    "name": "ipython",
    "version": 3
   },
   "file_extension": ".py",
   "mimetype": "text/x-python",
   "name": "python",
   "nbconvert_exporter": "python",
   "pygments_lexer": "ipython3",
   "version": "3.9.7"
  },
  "vscode": {
   "interpreter": {
    "hash": "919e6181955fbc636a96e4fdb04fb1b969c9681582829f05a2534c8d07862e2e"
   }
  }
 },
 "nbformat": 4,
 "nbformat_minor": 5
}
