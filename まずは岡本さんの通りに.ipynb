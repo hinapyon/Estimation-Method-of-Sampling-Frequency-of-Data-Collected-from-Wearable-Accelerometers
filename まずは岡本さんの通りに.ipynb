{
 "cells": [
  {
   "cell_type": "code",
   "execution_count": 2,
   "id": "75219e3b",
   "metadata": {},
   "outputs": [],
   "source": [
    "import csv\n",
    "import math\n",
    "import matplotlib.pyplot as plt\n",
    "import numpy as np\n",
    "import pandas as pd"
   ]
  },
  {
   "cell_type": "code",
   "execution_count": 3,
   "id": "2d5222db",
   "metadata": {},
   "outputs": [],
   "source": [
    "accX = []\n",
    "accY = []\n",
    "accZ = []"
   ]
  },
  {
   "cell_type": "code",
   "execution_count": 4,
   "id": "91b52b7c",
   "metadata": {},
   "outputs": [],
   "source": [
    "number = 1046\n",
    "filename = \"walk100Hz-0809-0900.csv\".format(number)"
   ]
  },
  {
   "cell_type": "code",
   "execution_count": 5,
   "id": "baaa1a5b",
   "metadata": {},
   "outputs": [],
   "source": [
    "with open(filename) as f: #ｘ軸,y軸,z軸の値を配列に格納\n",
    "    reader = csv.reader(f)\n",
    "    for row in reader:\n",
    "        accX.append(float(row[1]))\n",
    "        accY.append(float(row[2]))\n",
    "        accZ.append(float(row[3]))"
   ]
  },
  {
   "cell_type": "code",
   "execution_count": 6,
   "id": "49c79bb6",
   "metadata": {},
   "outputs": [],
   "source": [
    "#3軸それぞれの加速度の平均を計算\n",
    "sumX:float = 0\n",
    "sumY:float = 0\n",
    "sumZ:float = 0"
   ]
  },
  {
   "cell_type": "code",
   "execution_count": 7,
   "id": "4543c6ba",
   "metadata": {},
   "outputs": [],
   "source": [
    "index = 0\n",
    "for add in accX:\n",
    "    sumX = sumX + accX[index]\n",
    "    index += 1\n",
    "\n",
    "index = 0\n",
    "for add in accY:\n",
    "    sumY = sumY + accY[index]\n",
    "    index += 1\n",
    "\n",
    "index = 0\n",
    "for add in accZ:\n",
    "    sumZ = sumZ + accZ[index]\n",
    "    index += 1"
   ]
  },
  {
   "cell_type": "code",
   "execution_count": 8,
   "id": "9f3b3637",
   "metadata": {},
   "outputs": [
    {
     "name": "stdout",
     "output_type": "stream",
     "text": [
      "33680826.00137324\n"
     ]
    }
   ],
   "source": [
    "\n",
    "aveX = sumX / index\n",
    "aveY = sumY / index\n",
    "aveZ = sumZ / index\n",
    "\n",
    "#加速度の平均の合成値\n",
    "aveAcc = math.sqrt(aveX * aveX + aveY * aveY + aveZ * aveZ)\n",
    "print(aveAcc)"
   ]
  },
  {
   "cell_type": "code",
   "execution_count": null,
   "id": "418b8a8d",
   "metadata": {},
   "outputs": [],
   "source": []
  }
 ],
 "metadata": {
  "kernelspec": {
   "display_name": "base",
   "language": "python",
   "name": "python3"
  },
  "language_info": {
   "codemirror_mode": {
    "name": "ipython",
    "version": 3
   },
   "file_extension": ".py",
   "mimetype": "text/x-python",
   "name": "python",
   "nbconvert_exporter": "python",
   "pygments_lexer": "ipython3",
   "version": "3.9.7"
  },
  "vscode": {
   "interpreter": {
    "hash": "919e6181955fbc636a96e4fdb04fb1b969c9681582829f05a2534c8d07862e2e"
   }
  }
 },
 "nbformat": 4,
 "nbformat_minor": 5
}
