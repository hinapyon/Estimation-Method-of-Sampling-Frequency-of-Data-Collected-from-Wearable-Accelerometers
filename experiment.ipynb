{
 "cells": [
  {
   "cell_type": "code",
   "execution_count": 137,
   "id": "75219e3b",
   "metadata": {},
   "outputs": [],
   "source": [
    "import csv\n",
    "import math\n",
    "import matplotlib.pyplot as plt\n",
    "import numpy as np\n",
    "import pandas as pd"
   ]
  },
  {
   "cell_type": "code",
   "execution_count": 138,
   "id": "2d5222db",
   "metadata": {},
   "outputs": [],
   "source": [
    "accX = []\n",
    "accY = []\n",
    "accZ = []"
   ]
  },
  {
   "cell_type": "code",
   "execution_count": 139,
   "id": "91b52b7c",
   "metadata": {},
   "outputs": [],
   "source": [
    "number = 1046\n",
    "filename = \"walk100Hz-0809-0900.csv\".format(number)"
   ]
  },
  {
   "cell_type": "code",
   "execution_count": null,
   "id": "4c0fcc59",
   "metadata": {},
   "outputs": [],
   "source": []
  },
  {
   "cell_type": "code",
   "execution_count": 140,
   "id": "baaa1a5b",
   "metadata": {},
   "outputs": [],
   "source": [
    "with open(filename) as f: #ｘ軸,y軸,z軸の値を配列に格納\n",
    "    reader = csv.reader(f)\n",
    "    for row in reader:\n",
    "        accX.append(float(row[1]))\n",
    "        accY.append(float(row[2]))\n",
    "        accZ.append(float(row[3]))"
   ]
  },
  {
   "cell_type": "code",
   "execution_count": 141,
   "id": "1f16f2a0",
   "metadata": {},
   "outputs": [
    {
     "name": "stdout",
     "output_type": "stream",
     "text": [
      "[32443941.0, 32443951.0, 32443961.0, 32443971.0, 32443981.0]\n",
      "[11548.0, 11714.0, 12056.0, 12046.0, 12104.0]\n",
      "[2160.0, 2189.0, 2062.0, 2091.0, 2316.0]\n"
     ]
    }
   ],
   "source": [
    "print(accX[:5])\n",
    "print(accY[:5])\n",
    "print(accZ[:5])"
   ]
  },
  {
   "cell_type": "code",
   "execution_count": 142,
   "id": "49c79bb6",
   "metadata": {},
   "outputs": [],
   "source": [
    "#3軸それぞれの加速度の平均を計算\n",
    "sumX:float = 0\n",
    "sumY:float = 0\n",
    "sumZ:float = 0"
   ]
  },
  {
   "cell_type": "code",
   "execution_count": 143,
   "id": "4543c6ba",
   "metadata": {},
   "outputs": [],
   "source": [
    "index = 0\n",
    "for add in accX:\n",
    "    sumX = sumX + accX[index]\n",
    "    index += 1\n",
    "\n",
    "index = 0\n",
    "for add in accY:\n",
    "    sumY = sumY + accY[index]\n",
    "    index += 1\n",
    "\n",
    "index = 0\n",
    "for add in accZ:\n",
    "    sumZ = sumZ + accZ[index]\n",
    "    index += 1"
   ]
  },
  {
   "cell_type": "code",
   "execution_count": 144,
   "id": "b779d57b",
   "metadata": {},
   "outputs": [
    {
     "name": "stdout",
     "output_type": "stream",
     "text": [
      "8331895374228.0\n",
      "-75215874.0\n",
      "-1846722.0\n"
     ]
    }
   ],
   "source": [
    "print(sumX)\n",
    "print(sumY)\n",
    "print(sumZ)"
   ]
  },
  {
   "cell_type": "code",
   "execution_count": 145,
   "id": "9f3b3637",
   "metadata": {},
   "outputs": [
    {
     "name": "stdout",
     "output_type": "stream",
     "text": [
      "33680826.0 -304.05239754545676 -7.465182837600756 33680826.00137324\n"
     ]
    }
   ],
   "source": [
    "\n",
    "aveX = sumX / index\n",
    "aveY = sumY / index\n",
    "aveZ = sumZ / index\n",
    "\n",
    "#加速度の平均の合成値\n",
    "aveAcc = math.sqrt(aveX * aveX + aveY * aveY + aveZ * aveZ)\n",
    "print(aveX, aveY, aveZ,aveAcc)"
   ]
  },
  {
   "cell_type": "code",
   "execution_count": 146,
   "id": "418b8a8d",
   "metadata": {},
   "outputs": [],
   "source": [
    "#それぞれの加速度の合成値\n",
    "index = 0\n",
    "acc = []\n",
    "for walk in zip(accX, accY, accZ):\n",
    "    com = math.sqrt(accX[index] * accX[index] + accY[index] * accY[index] + accZ[index] * accZ[index])\n",
    "    acc.append(com)\n",
    "    index += 1"
   ]
  },
  {
   "cell_type": "code",
   "execution_count": 147,
   "id": "604c80b7",
   "metadata": {},
   "outputs": [
    {
     "name": "stdout",
     "output_type": "stream",
     "text": [
      "[32443943.12708283, 32443953.18853604, 32443963.305498004, 32443973.30363897, 32443983.340506032]\n"
     ]
    },
    {
     "data": {
      "text/plain": [
       "247378"
      ]
     },
     "execution_count": 147,
     "metadata": {},
     "output_type": "execute_result"
    }
   ],
   "source": [
    "print(acc[:5])\n",
    "len(acc)"
   ]
  },
  {
   "cell_type": "code",
   "execution_count": 136,
   "id": "b0a6a154",
   "metadata": {},
   "outputs": [
    {
     "name": "stdout",
     "output_type": "stream",
     "text": [
      "[1.0, 1.4, 1.05, 0.95, 0.91, 1.09, 1.08, 0.92, 1.3, 0.7] 10\n"
     ]
    }
   ],
   "source": [
    "#それぞれの加速度の合成値が加速度の平均の合成値の0.9倍から1.1倍が続くと静止とする\n",
    "acc = [1.0, 1.4, 0.6, 0.91, 1.09, 1.08, 0.92, 1.05, 0.95, 0.91, 1.09, 1.08, 0.92, 1.3, 0.7]\n",
    "aveAcc = sum(acc) / len(acc)\n",
    "index = 0\n",
    "n = 0\n",
    "for stop in acc:\n",
    "    if stop < aveAcc * 1.1 and stop > aveAcc * 0.9:\n",
    "        index += 1\n",
    "        if index == 5:\n",
    "            del acc[n-5:n]\n",
    "            index = 0\n",
    "    else:\n",
    "        index = 0\n",
    "    n += 1\n",
    "#print(acc[:5], len(acc))\n",
    "print(acc, len(acc))\n",
    "\n"
   ]
  },
  {
   "cell_type": "code",
   "execution_count": 148,
   "id": "01ac35cf",
   "metadata": {},
   "outputs": [
    {
     "name": "stdout",
     "output_type": "stream",
     "text": [
      "[32443943.12708283, 32443953.18853604, 32443963.305498004, 32443973.30363897, 32443983.340506032] 247378\n"
     ]
    }
   ],
   "source": [
    "print(acc[:5], len(acc))"
   ]
  },
  {
   "cell_type": "code",
   "execution_count": 149,
   "id": "9eda4f1d",
   "metadata": {},
   "outputs": [
    {
     "name": "stdout",
     "output_type": "stream",
     "text": [
      "[34917691.51469557, 34917701.50961174, 34917711.52719131] 3\n"
     ]
    }
   ],
   "source": [
    "i = 0\n",
    "counter = 0\n",
    "while i < len(acc):\n",
    "    if aveAcc * 0.9 < acc[i] < aveAcc * 1.1:\n",
    "        counter += 1\n",
    "        if counter == 5:\n",
    "            del acc[i-4:i+1]\n",
    "            counter = 0\n",
    "            i -= 5\n",
    "    else:\n",
    "        counter = 0\n",
    "    i += 1\n",
    "    #print(i,acc, counter)\n",
    "\n",
    "print(acc[:5], len(acc))"
   ]
  },
  {
   "cell_type": "code",
   "execution_count": null,
   "id": "a2633e32",
   "metadata": {},
   "outputs": [],
   "source": [
    "index = 0\n",
    "n = 0\n",
    "for stop in acc:\n",
    "    if aveAcc * 0.9 < stop < aveAcc * 1.1:\n",
    "        index += 1\n",
    "    else:\n",
    "        index = 0\n",
    "    if index == 5:\n",
    "        del acc[n-4:n]\n",
    "        index = 0\n",
    "    n += 1\n",
    "\n",
    "print(acc[:5], len(acc))"
   ]
  },
  {
   "cell_type": "code",
   "execution_count": null,
   "id": "d352e950",
   "metadata": {},
   "outputs": [],
   "source": [
    "print(acc[:5])\n",
    "len(acc)"
   ]
  },
  {
   "cell_type": "code",
   "execution_count": null,
   "id": "49bd208d",
   "metadata": {},
   "outputs": [],
   "source": [
    "#差分をとる\n",
    "index = 0\n",
    "accDif = []\n",
    "for dif in acc[:-1]:\n",
    "    accDif.append(math.fabs(acc[index + 1]*100000 - acc[index]*100000))\n",
    "    index += 1"
   ]
  },
  {
   "cell_type": "code",
   "execution_count": null,
   "id": "3112803c",
   "metadata": {},
   "outputs": [],
   "source": [
    "print(accDif[:5])\n",
    "len(accDif)"
   ]
  },
  {
   "cell_type": "code",
   "execution_count": null,
   "id": "10283ab2",
   "metadata": {},
   "outputs": [],
   "source": [
    "acc=[1.0, 1.4, 0.6, 0.91, 1.09, 1.08, 0.92, 1.05, 0.95, 1.3, 0.7]\n",
    "aveAcc = sum(acc) / len(acc)\n",
    "\n",
    "index = 0\n",
    "n = 0\n",
    "for stop in acc:\n",
    "    if stop < aveAcc * 1.1 and stop > aveAcc * 0.9:\n",
    "        index += 1\n",
    "        if index == 5:\n",
    "            del acc[n-5:n]\n",
    "            index = 0\n",
    "    else:\n",
    "        index = 0\n",
    "    n += 1\n",
    "\n",
    "acc"
   ]
  },
  {
   "cell_type": "code",
   "execution_count": null,
   "id": "21df356e",
   "metadata": {},
   "outputs": [],
   "source": [
    "accRes = [1.0, 1.4, 0.6, 0.91, 1.09, 1.08, 0.92, 1.05, 0.95, 1.3, 0.7]\n",
    "accResAve = sum(accRes) / len(accRes)\n",
    "i = 0\n",
    "counter = 0\n",
    "while i < len(accRes):\n",
    "    if accResAve * 0.9 <= accRes[i] <= accResAve * 1.1:\n",
    "        counter += 1\n",
    "        if counter == 5:\n",
    "            del accRes[i-4:i+1]\n",
    "            counter = 0\n",
    "            i -= 4\n",
    "    else:\n",
    "        counter = 0\n",
    "    i += 1\n",
    "    print(i,accRes, counter)\n",
    "\n",
    "print(accRes)"
   ]
  },
  {
   "cell_type": "code",
   "execution_count": null,
   "id": "348e171e",
   "metadata": {},
   "outputs": [],
   "source": [
    "accRes = [1.0, 1.4, 0.6, 0.91, 1.09, 1.08, 0.92, 1.05, 0.95, 0.91, 1.09, 1.08, 0.92, 1.3, 0.7]\n",
    "accResAve = sum(accRes) / len(accRes)\n",
    "i = 0\n",
    "counter = 0\n",
    "while i < len(accRes):\n",
    "    if accResAve * 0.9 <= accRes[i] <= accResAve * 1.1:\n",
    "        counter += 1\n",
    "        if counter == 5:\n",
    "            del accRes[i-4:i+1]\n",
    "            counter = 0\n",
    "            i -= 5\n",
    "    else:\n",
    "        counter = 0\n",
    "    i += 1\n",
    "    print(i,accRes, counter)\n",
    "\n",
    "print(accRes)"
   ]
  },
  {
   "cell_type": "code",
   "execution_count": null,
   "id": "1688ac32",
   "metadata": {},
   "outputs": [],
   "source": [
    "accRes = [1.0, 1.4, 0.6, 0.91, 1.09, 1.08, 0.92, 1.05, 0.95, 1.3, 0.7]\n",
    "accResAve = sum(accRes) / len(accRes)\n",
    "i = 0\n",
    "counter = 0\n",
    "while i < len(accRes):\n",
    "    if accResAve * 0.9 <= accRes[i] <= accResAve * 1.1:\n",
    "        counter += 1\n",
    "        if counter == 5:\n",
    "            del accRes[i-4:i+1]\n",
    "            counter = 0\n",
    "            i -= 4\n",
    "    else:\n",
    "        counter = 0\n",
    "    i += 1\n",
    "    print(i,accRes, counter)\n",
    "\n",
    "print(accRes)"
   ]
  },
  {
   "cell_type": "code",
   "execution_count": null,
   "id": "72bd487b",
   "metadata": {},
   "outputs": [],
   "source": []
  }
 ],
 "metadata": {
  "kernelspec": {
   "display_name": "base",
   "language": "python",
   "name": "python3"
  },
  "language_info": {
   "codemirror_mode": {
    "name": "ipython",
    "version": 3
   },
   "file_extension": ".py",
   "mimetype": "text/x-python",
   "name": "python",
   "nbconvert_exporter": "python",
   "pygments_lexer": "ipython3",
   "version": "3.9.7"
  },
  "vscode": {
   "interpreter": {
    "hash": "919e6181955fbc636a96e4fdb04fb1b969c9681582829f05a2534c8d07862e2e"
   }
  }
 },
 "nbformat": 4,
 "nbformat_minor": 5
}
