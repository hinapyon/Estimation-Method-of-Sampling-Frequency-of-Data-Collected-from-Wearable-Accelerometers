{
 "cells": [
  {
   "cell_type": "code",
   "execution_count": 9,
   "metadata": {},
   "outputs": [],
   "source": [
    "#ライブラリをインポート\n",
    "import os\n",
    "import re\n",
    "import sys\n",
    "import csv\n",
    "import math\n",
    "import matplotlib.pyplot as plt\n",
    "import numpy as np\n",
    "import pandas as pd"
   ]
  },
  {
   "cell_type": "code",
   "execution_count": 10,
   "metadata": {},
   "outputs": [],
   "source": [
    "#定数を定義\n",
    "BINS = 10000  #ヒストグラムのビンの数\n",
    "EPSILON = .00001  #スムージングパラメータ\n",
    "UPPER_LIMIT = 1.1 #静止区間の上限\n",
    "LOWER_LIMIT = 0.9 #静止区間の加減\n",
    "STATIONARY_INTERVALS = 5  #静止区間除去のサンプルの間隔(何サンプル静止区間が連続したら除去するか)"
   ]
  },
  {
   "cell_type": "code",
   "execution_count": 11,
   "metadata": {},
   "outputs": [],
   "source": [
    "#ディレクトリ内のデータセットのファイル名と周波数を取得する関数\n",
    "def get_filename_and_Hz(path: str) -> list[int, str]:\n",
    "    filename = os.listdir(path)\n",
    "    filename_and_Hz=[]\n",
    "\n",
    "    for file in filename:\n",
    "        Hz = re.search(r'\\d+', file)\n",
    "        if Hz:  #数字の入っていないファイル名があるとエラーを吐くので、このif文でチェックする\n",
    "            filename_and_Hz.append([int(Hz.group(0)), file])\n",
    "\n",
    "    return filename_and_Hz"
   ]
  },
  {
   "cell_type": "code",
   "execution_count": 12,
   "metadata": {},
   "outputs": [],
   "source": [
    "#ファイル名と周波数を分けて出力する関数\n",
    "def divide_filename_and_Hz(filename_and_Hz: list[int, str]) -> tuple[list[int], list[str]]:\n",
    "    Hz = []\n",
    "    filename = []\n",
    "    for row in filename_and_Hz:\n",
    "      Hz.append(row[0])\n",
    "      filename.append(row[1])\n",
    "\n",
    "    return Hz, filename"
   ]
  },
  {
   "cell_type": "code",
   "execution_count": 13,
   "metadata": {},
   "outputs": [],
   "source": [
    "#加速度データのCSVファイルから3軸加速度を取得する関数\n",
    "def get_acceleration(filename: str) -> tuple[np.ndarray, np.ndarray, np.ndarray]:\n",
    "    data = np.loadtxt(filename, delimiter=',', usecols=(2, 3, 4))\n",
    "    return data[:, 0], data[:, 1], data[:, 2]"
   ]
  },
  {
   "cell_type": "code",
   "execution_count": 14,
   "metadata": {},
   "outputs": [],
   "source": [
    "#静止区間を除去する関数\n",
    "def remove_stationary_intervals(AccX: np.ndarray, AccY: np.ndarray, AccZ: np.ndarray) -> np.ndarray:\n",
    "    # 各軸の加速度の平均を求める\n",
    "    AvgAccX = np.mean(AccX)\n",
    "    AvgAccY = np.mean(AccY)\n",
    "    AvgAccZ = np.mean(AccZ)\n",
    "\n",
    "    # 重力加速度の推定値=合成加速度の平均を求める\n",
    "    AvgResultantAcc = np.sqrt(AvgAccX ** 2 + AvgAccY ** 2 + AvgAccZ ** 2)\n",
    "\n",
    "    # 各時刻の合成加速度を求める\n",
    "    ResultantAcc = np.sqrt(AccX ** 2 + AccY ** 2 + AccZ ** 2)\n",
    "\n",
    "    # 各時刻の合成加速度から静止区間を除去する\n",
    "    stationary_interval_mask = (ResultantAcc > AvgResultantAcc * LOWER_LIMIT) & (ResultantAcc < AvgResultantAcc * UPPER_LIMIT)\n",
    "    stationary_intervals = np.split(ResultantAcc, np.where(np.diff(stationary_interval_mask) != 1)[0] + 1)\n",
    "    ResultantAcc = np.concatenate([interval for interval in stationary_intervals if len(interval) < STATIONARY_INTERVALS])\n",
    "\n",
    "    return ResultantAcc"
   ]
  },
  {
   "cell_type": "code",
   "execution_count": 15,
   "metadata": {},
   "outputs": [],
   "source": [
    "def remove_stationary_intervals(AccX: np.ndarray, AccY: np.ndarray, AccZ: np.ndarray) -> np.ndarray:\n",
    "    # 各軸の加速度の平均を求める\n",
    "    AvgAccX = np.mean(AccX)\n",
    "    AvgAccY = np.mean(AccY)\n",
    "    AvgAccZ = np.mean(AccZ)\n",
    "\n",
    "    # 重力加速度の推定値=合成加速度の平均を求める\n",
    "    AvgResultantAcc = np.sqrt(AvgAccX ** 2 + AvgAccY ** 2 + AvgAccZ ** 2)\n",
    "\n",
    "    # 各時刻の合成加速度を求める\n",
    "    ResultantAcc = np.sqrt(AccX ** 2 + AccY ** 2 + AccZ ** 2)\n",
    "\n",
    "    # 静止区間を特定するマスクを作成\n",
    "    stationary_interval_mask = (ResultantAcc > AvgResultantAcc * LOWER_LIMIT) & (ResultantAcc < AvgResultantAcc * UPPER_LIMIT)\n",
    "\n",
    "    # 静止区間を分割して配列に保存\n",
    "    intervals = np.split(ResultantAcc, np.where(np.diff(stationary_interval_mask) != 1)[0] + 1)\n",
    "\n",
    "    # 静止区間が一定以上続く場合には除去\n",
    "    updated_intervals = []\n",
    "    for interval in intervals:\n",
    "        if len(interval) >= STATIONARY_INTERVALS:\n",
    "            # 区間が静止区間の場合は除去する\n",
    "            for i in range(len(interval) - STATIONARY_INTERVALS + 1):\n",
    "                if np.all((interval[i:i+STATIONARY_INTERVALS] > AvgResultantAcc * LOWER_LIMIT) &\n",
    "                          (interval[i:i+STATIONARY_INTERVALS] < AvgResultantAcc * UPPER_LIMIT)):\n",
    "                    interval[i:i+STATIONARY_INTERVALS] = np.nan\n",
    "            updated_intervals.append(interval[~np.isnan(interval)])\n",
    "        else:\n",
    "            updated_intervals.append(interval)\n",
    "\n",
    "    # すべての区間を結合して最終結果を返す\n",
    "    return np.concatenate(updated_intervals)"
   ]
  },
  {
   "cell_type": "code",
   "execution_count": 16,
   "metadata": {},
   "outputs": [
    {
     "data": {
      "text/plain": [
       "216590"
      ]
     },
     "execution_count": 16,
     "metadata": {},
     "output_type": "execute_result"
    }
   ],
   "source": [
    "AccX, AccY, AccZ = get_acceleration(\"data/walk100Hz-0930-0756.csv\")\n",
    "ResultantAcc = remove_stationary_intervals(AccX, AccY, AccZ)\n",
    "len(ResultantAcc)"
   ]
  },
  {
   "cell_type": "code",
   "execution_count": 18,
   "metadata": {},
   "outputs": [],
   "source": [
    "#連続する2サンプルの差分を取る関数\n",
    "def differences_of_acceleration(ResultantAcc: np.ndarray) -> np.ndarray:\n",
    "    return np.abs(np.diff(ResultantAcc)*100000)"
   ]
  },
  {
   "cell_type": "code",
   "execution_count": 9,
   "metadata": {},
   "outputs": [],
   "source": [
    "#KLダイバージェンス関数 #引数として与える2つの分布は非負の値の集合でなければならないことに注意\n",
    "def KL_divergence(a: np.ndarray, b: np.ndarray) -> float:\n",
    "    min_value = min(min(a), min(b)) #a,bの最小値の小さい方\n",
    "    max_value = max(max(a), max(b)) #a,bの最大値の大きい方\n",
    "\n",
    "    #a,bのヒストグラムを作成し、同じ数のビンで区切る\n",
    "    a_hist, _ = np.histogram(a, bins=BINS, range=(min_value, max_value))\n",
    "    b_hist, _ = np.histogram(b, bins=BINS, range=(min_value, max_value))\n",
    "\n",
    "    #正規化する(確率分布に変換する、合計を1にする)ために全合計で割る\n",
    "    a_hist = (a_hist + EPSILON) / a_hist.sum()\n",
    "    b_hist = (b_hist + EPSILON) / b_hist.sum()\n",
    "\n",
    "    #KLダイバージェンスの値を返す\n",
    "    return np.sum(a_hist * np.log(a_hist / b_hist + EPSILON))"
   ]
  },
  {
   "cell_type": "code",
   "execution_count": 10,
   "metadata": {},
   "outputs": [],
   "source": [
    "#JSダイバージェンス関数 #引数として与える2つの分布は非負の値の集合でなければならないことに注意\n",
    "def JS_divergence(a: list[float], b: list[float]) -> float:\n",
    "    min_value = min(min(a), min(b)) #a,bの最小値の小さい方\n",
    "    max_value = max(max(a), max(b)) #a,bの最大値の大きい方\n",
    "\n",
    "    #a,bのヒストグラムを作成し、同じ数のビンで区切る\n",
    "    a_hist, _ = np.histogram(a, bins=BINS, range=(min_value, max_value))\n",
    "    b_hist, _ = np.histogram(b, bins=BINS, range=(min_value, max_value))\n",
    "\n",
    "    #正規化する(確率分布に変換する、合計を1にする)ために全合計で割る\n",
    "    a_hist = (a_hist + EPSILON) / a_hist.sum()\n",
    "    b_hist = (b_hist + EPSILON) / b_hist.sum()\n",
    "\n",
    "    #2つの分布の平均値を求める\n",
    "    mean_hist = (a_hist + b_hist) / 2.0\n",
    "\n",
    "    #平均とそれぞれの分布のKLダイバージェンスを算出\n",
    "    kl_a = np.sum(a_hist * np.log(a_hist / mean_hist))\n",
    "    kl_b = np.sum(b_hist * np.log(b_hist / mean_hist))\n",
    "\n",
    "    #JSダイバージェンスの値を返す\n",
    "    return (kl_a + kl_b) / 2.0"
   ]
  },
  {
   "cell_type": "code",
   "execution_count": 11,
   "metadata": {},
   "outputs": [],
   "source": [
    "#データフレームの各行の中で2番目に小さい値が格納されている場所を調べる関数(最小値は同じ確率分布同士の0.0)\n",
    "def get_index_and_columns_of_second_smallest(df: pd.DataFrame) -> list[str, str]:\n",
    "    index_and_columns_of_second_smallest = []\n",
    "    sorted_indices = np.argsort(df.values, axis=1)  # 各行を昇順に並べ替えたインデックスの行列を作成\n",
    "    for i in range(len(df)):\n",
    "        second_smallest_index = sorted_indices[i, 1]  # 各行の2番目に小さい値が格納されているカラムのインデックスを取得\n",
    "        index_and_columns_of_second_smallest.append((df.index[i], df.columns[second_smallest_index]))\n",
    "    return index_and_columns_of_second_smallest"
   ]
  },
  {
   "cell_type": "code",
   "execution_count": null,
   "metadata": {},
   "outputs": [],
   "source": []
  },
  {
   "cell_type": "code",
   "execution_count": 12,
   "metadata": {},
   "outputs": [],
   "source": [
    "#推定精度を算出する巻数\n",
    "def calculate_accuracy(index_and_columns_of_second_smallest: list[np.ndarray]) -> float:\n",
    "    # 全要素のうち、インデックスとカラムのラベル名が同じ要素のみがTrueとなる真偽値の配列を作成\n",
    "    is_same = np.array([index_and_columns_of_second_smallest[i][0] == index_and_columns_of_second_smallest[i][1] for i in range(len(index_and_columns_of_second_smallest))])\n",
    "\n",
    "    # 真偽値の配列の合計を計算し、その割合を算出することで、精度を求める\n",
    "    accuracy = is_same.sum() / len(index_and_columns_of_second_smallest) * 100\n",
    "\n",
    "    return accuracy"
   ]
  },
  {
   "cell_type": "code",
   "execution_count": 13,
   "metadata": {},
   "outputs": [],
   "source": [
    "def main():\n",
    "    args = sys.argv\n",
    "    path = args[1]\n",
    "    filename_and_Hz = get_filename_and_Hz(path)\n",
    "    filename_and_Hz.sort(reverse=True)\n",
    "    Hz, filename = divide_filename_and_Hz(filename_and_Hz)\n",
    "    Hz = [str(hz) + \"Hz\" for hz in Hz]\n",
    "\n",
    "    # AccX, AccY, AccZを一括で処理するために、辞書にまとめる\n",
    "    Acc_dict = {}\n",
    "    for i in filename:\n",
    "        Acc_dict[i] = get_acceleration(path + i)\n",
    "        Acc_dict[i] = remove_stationary_intervals(*Acc_dict[i])\n",
    "\n",
    "    # ndarrayに変換して、差分計算とJS/KLダイバージェンスの計算を一括で行う\n",
    "    acc_array_dict = {k: np.array(differences_of_acceleration(v)) for k, v in Acc_dict.items()}\n",
    "    filename_array = np.array(filename)\n",
    "    resultKLD = np.zeros((len(filename), len(filename)))\n",
    "    resultJSD = np.zeros((len(filename), len(filename)))\n",
    "    for i in range(len(filename)):\n",
    "        for j in range(len(filename)):\n",
    "            resultKLD[i, j] = KL_divergence(acc_array_dict[filename_array[i]], acc_array_dict[filename_array[j]])\n",
    "            resultJSD[i, j] = JS_divergence(acc_array_dict[filename_array[i]], acc_array_dict[filename_array[j]])\n",
    "\n",
    "    # DataFrameに変換して出力する\n",
    "    df_KLD = pd.DataFrame(resultKLD, index=Hz, columns=Hz)\n",
    "    display(df_KLD)\n",
    "    print(f\"KLダイバージェンスによる推定精度は{calculate_accuracy(get_index_and_columns_of_second_smallest(df_KLD))}%です\")\n",
    "\n",
    "    df_JSD = pd.DataFrame(resultJSD, index=Hz, columns=Hz)\n",
    "    display(df_JSD)\n",
    "    print(f\"JSダイバージェンスによる推定精度は{calculate_accuracy(get_index_and_columns_of_second_smallest(df_JSD))}%です\")\n"
   ]
  },
  {
   "cell_type": "code",
   "execution_count": 15,
   "metadata": {},
   "outputs": [
    {
     "ename": "TypeError",
     "evalue": "unsupported operand type(s) for ** or pow(): 'list' and 'int'",
     "output_type": "error",
     "traceback": [
      "\u001b[0;31m---------------------------------------------------------------------------\u001b[0m",
      "\u001b[0;31mTypeError\u001b[0m                                 Traceback (most recent call last)",
      "\u001b[0;32m/var/folders/j4/hqn03zs10mz2f196kq9g8rx80000gn/T/ipykernel_40684/467054723.py\u001b[0m in \u001b[0;36m<module>\u001b[0;34m\u001b[0m\n\u001b[1;32m      9\u001b[0m \u001b[0;32mfor\u001b[0m \u001b[0mi\u001b[0m \u001b[0;32min\u001b[0m \u001b[0mfilename\u001b[0m\u001b[0;34m:\u001b[0m\u001b[0;34m\u001b[0m\u001b[0;34m\u001b[0m\u001b[0m\n\u001b[1;32m     10\u001b[0m     \u001b[0mAcc_dict\u001b[0m\u001b[0;34m[\u001b[0m\u001b[0mi\u001b[0m\u001b[0;34m]\u001b[0m \u001b[0;34m=\u001b[0m \u001b[0mget_acceleration\u001b[0m\u001b[0;34m(\u001b[0m\u001b[0mpath\u001b[0m \u001b[0;34m+\u001b[0m \u001b[0mi\u001b[0m\u001b[0;34m)\u001b[0m\u001b[0;34m\u001b[0m\u001b[0;34m\u001b[0m\u001b[0m\n\u001b[0;32m---> 11\u001b[0;31m     \u001b[0mAcc_dict\u001b[0m\u001b[0;34m[\u001b[0m\u001b[0mi\u001b[0m\u001b[0;34m]\u001b[0m \u001b[0;34m=\u001b[0m \u001b[0mremove_stationary_intervals\u001b[0m\u001b[0;34m(\u001b[0m\u001b[0;34m*\u001b[0m\u001b[0mAcc_dict\u001b[0m\u001b[0;34m[\u001b[0m\u001b[0mi\u001b[0m\u001b[0;34m]\u001b[0m\u001b[0;34m)\u001b[0m\u001b[0;34m\u001b[0m\u001b[0;34m\u001b[0m\u001b[0m\n\u001b[0m\u001b[1;32m     12\u001b[0m \u001b[0;34m\u001b[0m\u001b[0m\n\u001b[1;32m     13\u001b[0m \u001b[0;31m# ndarrayに変換して、差分計算とJS/KLダイバージェンスの計算を一括で行う\u001b[0m\u001b[0;34m\u001b[0m\u001b[0;34m\u001b[0m\u001b[0m\n",
      "\u001b[0;32m/var/folders/j4/hqn03zs10mz2f196kq9g8rx80000gn/T/ipykernel_40684/2960436860.py\u001b[0m in \u001b[0;36mremove_stationary_intervals\u001b[0;34m(AccX, AccY, AccZ)\u001b[0m\n\u001b[1;32m      9\u001b[0m \u001b[0;34m\u001b[0m\u001b[0m\n\u001b[1;32m     10\u001b[0m     \u001b[0;31m# 各時刻の合成加速度を求める\u001b[0m\u001b[0;34m\u001b[0m\u001b[0;34m\u001b[0m\u001b[0m\n\u001b[0;32m---> 11\u001b[0;31m     \u001b[0mResultantAcc\u001b[0m \u001b[0;34m=\u001b[0m \u001b[0mnp\u001b[0m\u001b[0;34m.\u001b[0m\u001b[0msqrt\u001b[0m\u001b[0;34m(\u001b[0m\u001b[0mAccX\u001b[0m \u001b[0;34m**\u001b[0m \u001b[0;36m2\u001b[0m \u001b[0;34m+\u001b[0m \u001b[0mAccY\u001b[0m \u001b[0;34m**\u001b[0m \u001b[0;36m2\u001b[0m \u001b[0;34m+\u001b[0m \u001b[0mAccZ\u001b[0m \u001b[0;34m**\u001b[0m \u001b[0;36m2\u001b[0m\u001b[0;34m)\u001b[0m\u001b[0;34m\u001b[0m\u001b[0;34m\u001b[0m\u001b[0m\n\u001b[0m\u001b[1;32m     12\u001b[0m \u001b[0;34m\u001b[0m\u001b[0m\n\u001b[1;32m     13\u001b[0m     \u001b[0;31m# 各時刻の合成加速度から静止区間(重力加速度の推定値に近い値が一定以上以上連続している区間)を除去する\u001b[0m\u001b[0;34m\u001b[0m\u001b[0;34m\u001b[0m\u001b[0m\n",
      "\u001b[0;31mTypeError\u001b[0m: unsupported operand type(s) for ** or pow(): 'list' and 'int'"
     ]
    }
   ],
   "source": [
    "path = \"data/\"\n",
    "filename_and_Hz = get_filename_and_Hz(path)\n",
    "filename_and_Hz.sort(reverse=True)\n",
    "Hz, filename = divide_filename_and_Hz(filename_and_Hz)\n",
    "Hz = [str(hz) + \"Hz\" for hz in Hz]\n",
    "\n",
    "# AccX, AccY, AccZを一括で処理するために、辞書にまとめる\n",
    "Acc_dict = {}\n",
    "for i in filename:\n",
    "    Acc_dict[i] = get_acceleration(path + i)\n",
    "    Acc_dict[i] = remove_stationary_intervals(*Acc_dict[i])\n",
    "\n",
    "# ndarrayに変換して、差分計算とJS/KLダイバージェンスの計算を一括で行う\n",
    "acc_array_dict = {k: np.array(differences_of_acceleration(v)) for k, v in Acc_dict.items()}\n",
    "filename_array = np.array(filename)\n",
    "resultKLD = np.zeros((len(filename), len(filename)))\n",
    "resultJSD = np.zeros((len(filename), len(filename)))\n",
    "for i in range(len(filename)):\n",
    "    for j in range(len(filename)):\n",
    "        resultKLD[i, j] = KL_divergence(acc_array_dict[filename_array[i]], acc_array_dict[filename_array[j]])\n",
    "        resultJSD[i, j] = JS_divergence(acc_array_dict[filename_array[i]], acc_array_dict[filename_array[j]])\n",
    "\n",
    "# DataFrameに変換して出力する\n",
    "df_KLD = pd.DataFrame(resultKLD, index=Hz, columns=Hz)\n",
    "display(df_KLD)\n",
    "print(f\"KLダイバージェンスによる推定精度は{calculate_accuracy(get_index_and_columns_of_second_smallest(df_KLD))}%です\")\n",
    "\n",
    "df_JSD = pd.DataFrame(resultJSD, index=Hz, columns=Hz)\n",
    "display(df_JSD)\n",
    "print(f\"JSダイバージェンスによる推定精度は{calculate_accuracy(get_index_and_columns_of_second_smallest(df_JSD))}%です\")"
   ]
  },
  {
   "cell_type": "code",
   "execution_count": null,
   "metadata": {},
   "outputs": [],
   "source": []
  }
 ],
 "metadata": {
  "kernelspec": {
   "display_name": "base",
   "language": "python",
   "name": "python3"
  },
  "language_info": {
   "codemirror_mode": {
    "name": "ipython",
    "version": 3
   },
   "file_extension": ".py",
   "mimetype": "text/x-python",
   "name": "python",
   "nbconvert_exporter": "python",
   "pygments_lexer": "ipython3",
   "version": "3.9.7"
  },
  "orig_nbformat": 4,
  "vscode": {
   "interpreter": {
    "hash": "919e6181955fbc636a96e4fdb04fb1b969c9681582829f05a2534c8d07862e2e"
   }
  }
 },
 "nbformat": 4,
 "nbformat_minor": 2
}
