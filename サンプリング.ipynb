{
 "cells": [
  {
   "cell_type": "code",
   "execution_count": 1,
   "metadata": {},
   "outputs": [],
   "source": [
    "#ライブラリをインポート\n",
    "import csv\n",
    "import math\n",
    "import matplotlib.pyplot as plt\n",
    "import numpy as np\n",
    "import pandas as pd"
   ]
  },
  {
   "cell_type": "code",
   "execution_count": 2,
   "metadata": {},
   "outputs": [],
   "source": [
    "accX1 = []\n",
    "accY1 = []\n",
    "accZ1 = []\n",
    "\n",
    "accX2 = []\n",
    "accY2 = []\n",
    "accZ2 = []"
   ]
  },
  {
   "cell_type": "code",
   "execution_count": 3,
   "metadata": {},
   "outputs": [],
   "source": [
    "#ファイルを読み込む\n",
    "number = 1046\n",
    "filename1 = \"walk100Hz-0809-0900.csv\".format(number)\n",
    "filename2 = \"walk100Hz-0809-1000.csv\".format(number)"
   ]
  },
  {
   "cell_type": "code",
   "execution_count": 4,
   "metadata": {},
   "outputs": [],
   "source": [
    "with open(filename1) as f: #ｘ軸,y軸,z軸の値を配列に格納\n",
    "    reader = csv.reader(f)\n",
    "    for row in reader:\n",
    "        accX1.append(float(row[1]))\n",
    "        accY1.append(float(row[2]))\n",
    "        accZ1.append(float(row[3]))\n",
    "\n",
    "with open(filename2) as f: #ｘ軸,y軸,z軸の値を配列に格納\n",
    "    reader = csv.reader(f)\n",
    "    for row in reader:\n",
    "        accX2.append(float(row[1]))\n",
    "        accY2.append(float(row[2]))\n",
    "        accZ2.append(float(row[3]))"
   ]
  },
  {
   "cell_type": "code",
   "execution_count": 6,
   "metadata": {},
   "outputs": [
    {
     "name": "stdout",
     "output_type": "stream",
     "text": [
      "[32443941.0, 32443951.0, 32443961.0, 32443971.0, 32443981.0]\n",
      "[36003805.0, 36003815.0, 36003825.0, 36003835.0, 36003845.0]\n"
     ]
    }
   ],
   "source": [
    "print(accX1[:5])\n",
    "print(accX2[:5])"
   ]
  },
  {
   "cell_type": "code",
   "execution_count": 7,
   "metadata": {},
   "outputs": [],
   "source": [
    "#3軸それぞれの加速度の平均を計算\n",
    "sumX1:float = 0\n",
    "sumY1:float = 0\n",
    "sumZ1:float = 0\n",
    "\n",
    "#3軸それぞれの加速度の平均を計算\n",
    "sumX2:float = 0\n",
    "sumY2:float = 0\n",
    "sumZ2:float = 0"
   ]
  },
  {
   "cell_type": "code",
   "execution_count": null,
   "metadata": {},
   "outputs": [],
   "source": [
    "index = 0\n",
    "for add in accX1:\n",
    "    sumX1 = sumX1 + accX1[index]\n",
    "    index += 1\n",
    "\n",
    "index = 0\n",
    "for add in accY1:\n",
    "    sumY1 = sumY1 + accY1[index]\n",
    "    index += 1\n",
    "\n",
    "index = 0\n",
    "for add in accZ1:\n",
    "    sumZ1 = sumZ1 + accZ1[index]\n",
    "    index += 1\n",
    "\n",
    "index = 0\n",
    "for add in accX1:\n",
    "    sumX1 = sumX1 + accX1[index]\n",
    "    index += 1\n",
    "\n",
    "index = 0\n",
    "for add in accY1:\n",
    "    sumY1 = sumY1 + accY1[index]\n",
    "    index += 1\n",
    "\n",
    "index = 0\n",
    "for add in accZ1:\n",
    "    sumZ1 = sumZ1 + accZ1[index]\n",
    "    index += 1"
   ]
  }
 ],
 "metadata": {
  "kernelspec": {
   "display_name": "base",
   "language": "python",
   "name": "python3"
  },
  "language_info": {
   "codemirror_mode": {
    "name": "ipython",
    "version": 3
   },
   "file_extension": ".py",
   "mimetype": "text/x-python",
   "name": "python",
   "nbconvert_exporter": "python",
   "pygments_lexer": "ipython3",
   "version": "3.9.7"
  },
  "orig_nbformat": 4,
  "vscode": {
   "interpreter": {
    "hash": "919e6181955fbc636a96e4fdb04fb1b969c9681582829f05a2534c8d07862e2e"
   }
  }
 },
 "nbformat": 4,
 "nbformat_minor": 2
}
