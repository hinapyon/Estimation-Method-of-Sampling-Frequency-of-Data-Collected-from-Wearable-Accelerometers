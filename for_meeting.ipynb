{
 "cells": [
  {
   "cell_type": "code",
   "execution_count": 1,
   "metadata": {},
   "outputs": [],
   "source": [
    "import csv\n",
    "import math\n",
    "import matplotlib.pyplot as plt\n",
    "import numpy as np\n",
    "import pandas as pd"
   ]
  },
  {
   "cell_type": "code",
   "execution_count": 2,
   "metadata": {},
   "outputs": [
    {
     "name": "stdout",
     "output_type": "stream",
     "text": [
      "1.0\n"
     ]
    }
   ],
   "source": [
    "sample_acc = [1.0, 1.4, 0.6, 0.91, 1.09, 1.08, 0.92, 1.05, 0.95, 1.3, 0.7]\n",
    "collect_result = [1.0, 1.4, 0.6, 0.95, 1.3, 0.7]\n",
    "sample_aveAcc = sum(sample_acc) / len(sample_acc)\n",
    "print(sample_aveAcc)"
   ]
  },
  {
   "cell_type": "code",
   "execution_count": 3,
   "metadata": {},
   "outputs": [
    {
     "name": "stdout",
     "output_type": "stream",
     "text": [
      "1.0\n",
      "[1.0, 1.4, 1.05, 0.95, 1.3, 0.7]\n"
     ]
    }
   ],
   "source": [
    "sample_acc = [1.0, 1.4, 0.6, 0.91, 1.09, 1.08, 0.92, 1.05, 0.95, 1.3, 0.7]\n",
    "collect_result = [1.0, 1.4, 0.6, 0.95, 1.3, 0.7]\n",
    "sample_aveAcc = sum(sample_acc) / len(sample_acc)\n",
    "print(sample_aveAcc)\n",
    "\n",
    "#岡本さんのソースコード\n",
    "index = 0\n",
    "n = 0\n",
    "for stop in sample_acc:\n",
    "    if stop < sample_aveAcc * 1.1 and stop > sample_aveAcc * 0.9:\n",
    "        index += 1\n",
    "        if index == 5:\n",
    "            del sample_acc[n-5:n]\n",
    "            index = 0\n",
    "    else:\n",
    "        index = 0\n",
    "    n += 1\n",
    "\n",
    "print(sample_acc)"
   ]
  },
  {
   "cell_type": "code",
   "execution_count": 4,
   "metadata": {},
   "outputs": [
    {
     "name": "stdout",
     "output_type": "stream",
     "text": [
      "1.0\n",
      "[1.0, 1.4, 0.6, 0.95, 1.3, 0.7]\n"
     ]
    }
   ],
   "source": [
    "#おそらく正しい方のソースコード\n",
    "sample_acc = [1.0, 1.4, 0.6, 0.91, 1.09, 1.08, 0.92, 1.05, 0.95, 1.3, 0.7]\n",
    "collect_result = [1.0, 1.4, 0.6, 0.95, 1.3, 0.7]\n",
    "sample_aveAcc = sum(sample_acc) / len(sample_acc)\n",
    "print(sample_aveAcc)\n",
    "\n",
    "i=0\n",
    "counter = 0\n",
    "while i < len(sample_acc):\n",
    "    if sample_aveAcc * 0.9 < sample_acc[i] < sample_aveAcc * 1.1:\n",
    "        counter += 1\n",
    "        if counter == 5:\n",
    "            del sample_acc[i-4:i+1]\n",
    "            counter = 0\n",
    "            i -= 5\n",
    "    else:\n",
    "        counter = 0\n",
    "    i += 1\n",
    "\n",
    "print(sample_acc)"
   ]
  },
  {
   "cell_type": "code",
   "execution_count": 123,
   "metadata": {},
   "outputs": [],
   "source": [
    "#本データでやるとこんな感じ\n",
    "accX = []\n",
    "accY = []\n",
    "accZ = []\n",
    "#ファイルを読み込む\n",
    "filename = \"walk100Hz-0809-0900.csv\"\n",
    "with open(filename) as f: #ｘ軸,y軸,z軸の値を配列に格納\n",
    "    reader = csv.reader(f)\n",
    "    for row in reader:\n",
    "        accX.append(float(row[2]))\n",
    "        accY.append(float(row[3]))\n",
    "        accZ.append(float(row[4]))"
   ]
  },
  {
   "cell_type": "code",
   "execution_count": null,
   "metadata": {},
   "outputs": [],
   "source": [
    "accX[:5]"
   ]
  },
  {
   "cell_type": "code",
   "execution_count": 124,
   "metadata": {},
   "outputs": [
    {
     "name": "stdout",
     "output_type": "stream",
     "text": [
      "9721.494006928244 -304.05239754545676 -7.465182837600756 9716.735158340676\n",
      "[12105.71369230249, 12241.76135202774, 12522.308293601463, 12498.912192667009, 12564.95415829282]\n"
     ]
    },
    {
     "data": {
      "text/plain": [
       "247378"
      ]
     },
     "execution_count": 124,
     "metadata": {},
     "output_type": "execute_result"
    }
   ],
   "source": [
    "aveAccX = sum(accX) / len(accX)\n",
    "aveAccY  = sum(accY) / len(accY)\n",
    "aveAccZ  = sum(accZ) / len(accZ)\n",
    "\n",
    "#重力加速度の推定値=合成加速度の平均を求める\n",
    "aveAcc = math.sqrt(aveAccX ** 2 + aveAccY ** 2 + aveAccZ ** 2)\n",
    "\n",
    "print(aveAcc, aveAccX, aveAccY, aveAccZ)\n",
    "\n",
    "#各時刻の合成加速度を求める\n",
    "acc = [math.sqrt(x ** 2 + y ** 2 + z ** 2) for x, y, z in zip(accX, accY, accZ)]\n",
    "\n",
    "print(acc[:5])\n",
    "len(acc)"
   ]
  },
  {
   "cell_type": "code",
   "execution_count": null,
   "metadata": {},
   "outputs": [],
   "source": [
    "#岡本さんのソースコードでやると、24万個ほどのデータが22万個程に\n",
    "index = 0\n",
    "n = 0\n",
    "for stop in acc:\n",
    "    if stop < aveAcc * 1.1 and stop > aveAcc * 0.9:\n",
    "        index += 1\n",
    "        if index == 5:\n",
    "            del acc[n-5:n]\n",
    "            index = 0\n",
    "    else:\n",
    "        index = 0\n",
    "    n += 1\n",
    "\n",
    "print(acc[:5])\n",
    "len(acc)"
   ]
  },
  {
   "cell_type": "code",
   "execution_count": 125,
   "metadata": {},
   "outputs": [
    {
     "name": "stdout",
     "output_type": "stream",
     "text": [
      "[12105.71369230249, 12241.76135202774, 12522.308293601463, 12498.912192667009, 12564.95415829282]\n"
     ]
    },
    {
     "data": {
      "text/plain": [
       "209618"
      ]
     },
     "execution_count": 125,
     "metadata": {},
     "output_type": "execute_result"
    }
   ],
   "source": [
    "#おそらく正しい方のソースコードでやると、24万個ほどのデータが20万個程に\n",
    "i=0\n",
    "counter = 0\n",
    "while i < len(acc):\n",
    "    if aveAcc * 0.9 < acc[i] < aveAcc * 1.1:\n",
    "        counter += 1\n",
    "        if counter == 5:\n",
    "            del acc[i-4:i+1]\n",
    "            counter = 0\n",
    "            i -= 5\n",
    "    else:\n",
    "        counter = 0\n",
    "    i += 1\n",
    "\n",
    "print(acc[:5])\n",
    "len(acc)"
   ]
  },
  {
   "cell_type": "code",
   "execution_count": 126,
   "metadata": {},
   "outputs": [],
   "source": [
    "#連続する2サンプルの差分を取る関数\n",
    "def differences_of_acceleration(accRes):\n",
    "    index = 0\n",
    "    accDif = []\n",
    "    for dif in accRes[:-1]:\n",
    "        accDif.append(math.fabs(accRes[index + 1]*100000 - accRes[index]*100000))\n",
    "        index += 1\n",
    "\n",
    "    return accDif"
   ]
  },
  {
   "cell_type": "code",
   "execution_count": 127,
   "metadata": {},
   "outputs": [
    {
     "name": "stdout",
     "output_type": "stream",
     "text": [
      "[13604765.972524881, 28054694.157372475, 2339610.093445301, 6604196.562581062, 4445137.286123991]\n"
     ]
    }
   ],
   "source": [
    "accDif1 = differences_of_acceleration(acc)\n",
    "print(accDif1[:5])"
   ]
  },
  {
   "cell_type": "code",
   "execution_count": 128,
   "metadata": {},
   "outputs": [
    {
     "name": "stdout",
     "output_type": "stream",
     "text": [
      "9747.441289494094 -72.04409913535153 725.0838647103737 9720.168451680802\n",
      "[9501.87965615225, 9464.300343924004, 9336.628781310736, 9050.52578583145, 8942.169647238863]\n",
      "[8802.031186038823, 8483.652338468379, 8364.235410364776, 8274.421671633614, 8360.91908823426]\n",
      "[31837884.757044435, 11941692.810360312, 8981373.873116136, 8649741.660064459, 10146119.15688181]\n"
     ]
    }
   ],
   "source": [
    "#本データでやるとこんな感じ\n",
    "accX = []\n",
    "accY = []\n",
    "accZ = []\n",
    "#ファイルを読み込む\n",
    "filename = \"walk100Hz-0809-1000.csv\"\n",
    "with open(filename) as f: #ｘ軸,y軸,z軸の値を配列に格納\n",
    "    reader = csv.reader(f)\n",
    "    for row in reader:\n",
    "        accX.append(float(row[2]))\n",
    "        accY.append(float(row[3]))\n",
    "        accZ.append(float(row[4]))\n",
    "\n",
    "aveAccX = sum(accX) / len(accX)\n",
    "aveAccY  = sum(accY) / len(accY)\n",
    "aveAccZ  = sum(accZ) / len(accZ)\n",
    "\n",
    "#重力加速度の推定値=合成加速度の平均を求める\n",
    "aveAcc = math.sqrt(aveAccX ** 2 + aveAccY ** 2 + aveAccZ ** 2)\n",
    "\n",
    "print(aveAcc, aveAccX, aveAccY, aveAccZ)\n",
    "\n",
    "#各時刻の合成加速度を求める\n",
    "acc = [math.sqrt(x ** 2 + y ** 2 + z ** 2) for x, y, z in zip(accX, accY, accZ)]\n",
    "\n",
    "print(acc[:5])\n",
    "len(acc)\n",
    "\n",
    "#おそらく正しい方のソースコードでやると、24万個ほどのデータが20万個程に\n",
    "i=0\n",
    "counter = 0\n",
    "while i < len(acc):\n",
    "    if aveAcc * 0.9 < acc[i] < aveAcc * 1.1:\n",
    "        counter += 1\n",
    "        if counter == 5:\n",
    "            del acc[i-4:i+1]\n",
    "            counter = 0\n",
    "            i -= 5\n",
    "    else:\n",
    "        counter = 0\n",
    "    i += 1\n",
    "\n",
    "print(acc[:5])\n",
    "len(acc)\n",
    "\n",
    "accDif2 = differences_of_acceleration(acc)\n",
    "print(accDif2[:5])"
   ]
  },
  {
   "cell_type": "code",
   "execution_count": 131,
   "metadata": {},
   "outputs": [],
   "source": [
    "#マクロを定義\n",
    "BINS = 10000  #ヒストグラムのビンの数\n",
    "EPSILON = .00001  #スムージングパラメータ\n",
    "UPPER_LIMIT = 1.1 #静止区間の上限\n",
    "LOWER_LIMIT = 0.9 #静止区間の加減\n",
    "STATIONARY_INTERVALS = 5  #静止区間除去のサンプルの間隔(何サンプル静止区間が連続したら除去するか)"
   ]
  },
  {
   "cell_type": "code",
   "execution_count": 132,
   "metadata": {},
   "outputs": [],
   "source": [
    "#KLダイバージェンス関数\n",
    "def KL_divergence(a, b):\n",
    "    min_value = min(min(a), min(b)) #a,bの最小値の小さい方\n",
    "    max_value = max(max(a), max(b)) #a,bの最大値の大きい方\n",
    "\n",
    "    #a,bのヒストグラムを作成し、同じ数のビンで区切る\n",
    "    a_hist, _ = np.histogram(a, bins=BINS, range=(min_value, max_value))\n",
    "    b_hist, _ = np.histogram(b, bins=BINS, range=(min_value, max_value))\n",
    "\n",
    "    #正規化する(確率分布に変換する、合計を1にする)ために全合計で割る\n",
    "    a_hist = (a_hist + EPSILON) / a_hist.sum()\n",
    "    b_hist = (b_hist + EPSILON) / b_hist.sum()\n",
    "\n",
    "    #KLダイバージェンスの値を返す\n",
    "    return np.sum([ai * np.log(ai / bi) for ai, bi in zip(a_hist, b_hist)])"
   ]
  },
  {
   "cell_type": "code",
   "execution_count": 133,
   "metadata": {},
   "outputs": [
    {
     "name": "stdout",
     "output_type": "stream",
     "text": [
      "0.05256906208261389\n"
     ]
    }
   ],
   "source": [
    "print(KL_divergence(accDif1, accDif2))"
   ]
  },
  {
   "cell_type": "code",
   "execution_count": null,
   "metadata": {},
   "outputs": [],
   "source": []
  }
 ],
 "metadata": {
  "kernelspec": {
   "display_name": "base",
   "language": "python",
   "name": "python3"
  },
  "language_info": {
   "codemirror_mode": {
    "name": "ipython",
    "version": 3
   },
   "file_extension": ".py",
   "mimetype": "text/x-python",
   "name": "python",
   "nbconvert_exporter": "python",
   "pygments_lexer": "ipython3",
   "version": "3.9.7"
  },
  "orig_nbformat": 4,
  "vscode": {
   "interpreter": {
    "hash": "919e6181955fbc636a96e4fdb04fb1b969c9681582829f05a2534c8d07862e2e"
   }
  }
 },
 "nbformat": 4,
 "nbformat_minor": 2
}
