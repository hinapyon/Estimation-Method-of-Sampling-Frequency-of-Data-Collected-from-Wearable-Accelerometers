{
 "cells": [
  {
   "cell_type": "code",
   "execution_count": 63,
   "metadata": {},
   "outputs": [],
   "source": [
    "import csv\n",
    "import math\n",
    "import matplotlib.pyplot as plt\n",
    "import numpy as np\n",
    "import pandas as pd"
   ]
  },
  {
   "cell_type": "code",
   "execution_count": 64,
   "metadata": {},
   "outputs": [
    {
     "name": "stdout",
     "output_type": "stream",
     "text": [
      "1.0\n"
     ]
    }
   ],
   "source": [
    "sample_acc = [1.0, 1.4, 0.6, 0.91, 1.09, 1.08, 0.92, 1.05, 0.95, 1.3, 0.7]\n",
    "collect_result = [1.0, 1.4, 0.6, 0.95, 1.3, 0.7]\n",
    "sample_aveAcc = sum(sample_acc) / len(sample_acc)\n",
    "print(sample_aveAcc)"
   ]
  },
  {
   "cell_type": "code",
   "execution_count": 65,
   "metadata": {},
   "outputs": [
    {
     "name": "stdout",
     "output_type": "stream",
     "text": [
      "1.0\n",
      "[1.0, 1.4, 1.05, 0.95, 1.3, 0.7]\n"
     ]
    }
   ],
   "source": [
    "sample_acc = [1.0, 1.4, 0.6, 0.91, 1.09, 1.08, 0.92, 1.05, 0.95, 1.3, 0.7]\n",
    "collect_result = [1.0, 1.4, 0.6, 0.95, 1.3, 0.7]\n",
    "sample_aveAcc = sum(sample_acc) / len(sample_acc)\n",
    "print(sample_aveAcc)\n",
    "\n",
    "#岡本さんのソースコード\n",
    "index = 0\n",
    "n = 0\n",
    "for stop in sample_acc:\n",
    "    if stop < sample_aveAcc * 1.1 and stop > sample_aveAcc * 0.9:\n",
    "        index += 1\n",
    "        if index == 5:\n",
    "            del sample_acc[n-5:n]\n",
    "            index = 0\n",
    "    else:\n",
    "        index = 0\n",
    "    n += 1\n",
    "\n",
    "print(sample_acc)"
   ]
  },
  {
   "cell_type": "code",
   "execution_count": 66,
   "metadata": {},
   "outputs": [
    {
     "name": "stdout",
     "output_type": "stream",
     "text": [
      "1.0\n",
      "[1.0, 1.4, 0.6, 0.95, 1.3, 0.7]\n"
     ]
    }
   ],
   "source": [
    "#おそらく正しい方のソースコード\n",
    "sample_acc = [1.0, 1.4, 0.6, 0.91, 1.09, 1.08, 0.92, 1.05, 0.95, 1.3, 0.7]\n",
    "collect_result = [1.0, 1.4, 0.6, 0.95, 1.3, 0.7]\n",
    "sample_aveAcc = sum(sample_acc) / len(sample_acc)\n",
    "print(sample_aveAcc)\n",
    "\n",
    "i=0\n",
    "counter = 0\n",
    "while i < len(sample_acc):\n",
    "    if sample_aveAcc * 0.9 < sample_acc[i] < sample_aveAcc * 1.1:\n",
    "        counter += 1\n",
    "        if counter == 5:\n",
    "            del sample_acc[i-4:i+1]\n",
    "            counter = 0\n",
    "            i -= 5\n",
    "    else:\n",
    "        counter = 0\n",
    "    i += 1\n",
    "\n",
    "print(sample_acc)"
   ]
  },
  {
   "cell_type": "code",
   "execution_count": 80,
   "metadata": {},
   "outputs": [],
   "source": [
    "#本データでやるとこんな感じ\n",
    "accX = []\n",
    "accY = []\n",
    "accZ = []\n",
    "#ファイルを読み込む\n",
    "filename = \"walk100Hz-0809-0900.csv\"\n",
    "with open(filename) as f: #ｘ軸,y軸,z軸の値を配列に格納\n",
    "    reader = csv.reader(f)\n",
    "    for row in reader:\n",
    "        accX.append(float(row[1]))\n",
    "        accY.append(float(row[2]))\n",
    "        accZ.append(float(row[3]))"
   ]
  },
  {
   "cell_type": "code",
   "execution_count": 81,
   "metadata": {},
   "outputs": [
    {
     "name": "stdout",
     "output_type": "stream",
     "text": [
      "33680826.00137324 33680826.0 -304.05239754545676 -7.465182837600756\n",
      "[32443943.12708283, 32443953.18853604, 32443963.305498004, 32443973.30363897, 32443983.340506032]\n"
     ]
    },
    {
     "data": {
      "text/plain": [
       "247378"
      ]
     },
     "execution_count": 81,
     "metadata": {},
     "output_type": "execute_result"
    }
   ],
   "source": [
    "aveAccX = sum(accX) / len(accX)\n",
    "aveAccY  = sum(accY) / len(accY)\n",
    "aveAccZ  = sum(accZ) / len(accZ)\n",
    "\n",
    "#重力加速度の推定値=合成加速度の平均を求める\n",
    "aveAcc = math.sqrt(aveAccX ** 2 + aveAccY ** 2 + aveAccZ ** 2)\n",
    "\n",
    "print(aveAcc, aveAccX, aveAccY, aveAccZ)\n",
    "\n",
    "#各時刻の合成加速度を求める\n",
    "acc = [math.sqrt(x ** 2 + y ** 2 + z ** 2) for x, y, z in zip(accX, accY, accZ)]\n",
    "\n",
    "print(acc[:5])\n",
    "len(acc)"
   ]
  },
  {
   "cell_type": "code",
   "execution_count": 79,
   "metadata": {},
   "outputs": [
    {
     "name": "stdout",
     "output_type": "stream",
     "text": [
      "[32443943.12708283, 32443953.18853604, 32443963.305498004, 32443973.30363897, 32444032.819831338]\n"
     ]
    },
    {
     "data": {
      "text/plain": [
       "123693"
      ]
     },
     "execution_count": 79,
     "metadata": {},
     "output_type": "execute_result"
    }
   ],
   "source": [
    "#岡本さんのソースコードでやると、24万個ほどのデータが12万個程に\n",
    "index = 0\n",
    "n = 0\n",
    "for stop in acc:\n",
    "    if stop < aveAcc * 1.1 and stop > aveAcc * 0.9:\n",
    "        index += 1\n",
    "        if index == 5:\n",
    "            del acc[n-5:n]\n",
    "            index = 0\n",
    "    else:\n",
    "        index = 0\n",
    "    n += 1\n",
    "\n",
    "print(acc[:5])\n",
    "len(acc)"
   ]
  },
  {
   "cell_type": "code",
   "execution_count": 82,
   "metadata": {},
   "outputs": [
    {
     "name": "stdout",
     "output_type": "stream",
     "text": [
      "[34917691.51469557, 34917701.50961174, 34917711.52719131]\n"
     ]
    },
    {
     "data": {
      "text/plain": [
       "3"
      ]
     },
     "execution_count": 82,
     "metadata": {},
     "output_type": "execute_result"
    }
   ],
   "source": [
    "#おそらく正しい方のソースコードでやると、24万個ほどのデータがたった3個に\n",
    "i=0\n",
    "counter = 0\n",
    "while i < len(acc):\n",
    "    if aveAcc * 0.9 < acc[i] < aveAcc * 1.1:\n",
    "        counter += 1\n",
    "        if counter == 5:\n",
    "            del acc[i-4:i+1]\n",
    "            counter = 0\n",
    "            i -= 5\n",
    "    else:\n",
    "        counter = 0\n",
    "    i += 1\n",
    "\n",
    "print(acc[:5])\n",
    "len(acc)"
   ]
  },
  {
   "cell_type": "code",
   "execution_count": null,
   "metadata": {},
   "outputs": [],
   "source": []
  }
 ],
 "metadata": {
  "kernelspec": {
   "display_name": "base",
   "language": "python",
   "name": "python3"
  },
  "language_info": {
   "codemirror_mode": {
    "name": "ipython",
    "version": 3
   },
   "file_extension": ".py",
   "mimetype": "text/x-python",
   "name": "python",
   "nbconvert_exporter": "python",
   "pygments_lexer": "ipython3",
   "version": "3.9.7"
  },
  "orig_nbformat": 4,
  "vscode": {
   "interpreter": {
    "hash": "919e6181955fbc636a96e4fdb04fb1b969c9681582829f05a2534c8d07862e2e"
   }
  }
 },
 "nbformat": 4,
 "nbformat_minor": 2
}
