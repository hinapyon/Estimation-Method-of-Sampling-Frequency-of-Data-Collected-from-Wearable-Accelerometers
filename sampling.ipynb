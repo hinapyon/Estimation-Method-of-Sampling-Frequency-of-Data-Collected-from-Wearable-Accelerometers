{
 "cells": [
  {
   "cell_type": "code",
   "execution_count": 1,
   "metadata": {},
   "outputs": [],
   "source": [
    "#ライブラリをインポート\n",
    "import csv\n",
    "import math\n",
    "import matplotlib.pyplot as plt\n",
    "import numpy as np\n",
    "import pandas as pd"
   ]
  },
  {
   "cell_type": "code",
   "execution_count": 2,
   "metadata": {},
   "outputs": [],
   "source": [
    "#ファイルを読み込む\n",
    "filename = \"walk100Hz-0809-0900.csv\""
   ]
  },
  {
   "cell_type": "code",
   "execution_count": 3,
   "metadata": {},
   "outputs": [],
   "source": [
    "#CSVファイルから各軸の加速度を読み込むための変数\n",
    "accX = []\n",
    "accY = []\n",
    "accZ = []\n",
    "Hz = 100"
   ]
  },
  {
   "cell_type": "code",
   "execution_count": 4,
   "metadata": {},
   "outputs": [],
   "source": [
    "#ｘ軸,y軸,z軸の値を配列に格納\n",
    "with open(filename) as f:\n",
    "    reader = csv.reader(f)\n",
    "    for row in reader:\n",
    "        accX.append(float(row[1]))\n",
    "        accY.append(float(row[2]))\n",
    "        accZ.append(float(row[3]))"
   ]
  },
  {
   "cell_type": "code",
   "execution_count": 5,
   "metadata": {},
   "outputs": [],
   "source": [
    "#各軸の加速度の平均を求める\n",
    "aveX = sum(accX) / len(accX)\n",
    "aveY = sum(accY) / len(accY)\n",
    "aveZ = sum(accZ) / len(accZ)"
   ]
  },
  {
   "cell_type": "code",
   "execution_count": 6,
   "metadata": {},
   "outputs": [
    {
     "name": "stdout",
     "output_type": "stream",
     "text": [
      "33680826.00137324\n"
     ]
    }
   ],
   "source": [
    "#重力加速度の推定値=合成加速度の平均を求める\n",
    "aveAcc = math.sqrt(aveX ** 2 + aveY ** 2 + aveZ ** 2)\n",
    "print(aveAcc)"
   ]
  },
  {
   "cell_type": "code",
   "execution_count": 8,
   "metadata": {},
   "outputs": [],
   "source": [
    "#各時刻の合成加速度を求める\n",
    "acc = [math.sqrt(x ** 2 + y ** 2 + z ** 2) for x, y, z in zip(accX, accY, accZ)]"
   ]
  },
  {
   "cell_type": "code",
   "execution_count": null,
   "metadata": {},
   "outputs": [],
   "source": [
    "#各時刻の合成加速度から静止区間(重力加速度の推定値に近い値が5サンプル以上連続している区間)を除去する\n",
    "counter = 0\n",
    "n = 0\n",
    "#iにインデックス,stopにリストの要素が入っている\n",
    "for i, stop in enumerate(acc):\n",
    "    if stop < aveAcc * 1.1 and stop > aveAcc * 0.9:\n",
    "        counter += 1\n",
    "        if counter == 5:\n",
    "            del acc[n:n+5]\n",
    "            counter = 0\n",
    "            i -= 5\n",
    "    else:\n",
    "        counter = 0\n",
    "        n = i + 1"
   ]
  },
  {
   "cell_type": "code",
   "execution_count": null,
   "metadata": {},
   "outputs": [],
   "source": [
    "#連続する 2サンプルの差分の絶対値を求める\n",
    "index = 0\n",
    "accDif = []\n",
    "for dif in acc[:-1]:\n",
    "    accDif.append(math.fabs(acc[index + 1] - acc[index]))\n",
    "    index += 1"
   ]
  },
  {
   "cell_type": "code",
   "execution_count": null,
   "metadata": {},
   "outputs": [],
   "source": [
    "with open('data_{0}Hz_Dif.csv'.format(Hz), \"w\", newline=\"\") as f:\n",
    "    writer = csv.writer(f)\n",
    "    writer.writerow(acc)"
   ]
  }
 ],
 "metadata": {
  "kernelspec": {
   "display_name": "base",
   "language": "python",
   "name": "python3"
  },
  "language_info": {
   "codemirror_mode": {
    "name": "ipython",
    "version": 3
   },
   "file_extension": ".py",
   "mimetype": "text/x-python",
   "name": "python",
   "nbconvert_exporter": "python",
   "pygments_lexer": "ipython3",
   "version": "3.9.7"
  },
  "vscode": {
   "interpreter": {
    "hash": "919e6181955fbc636a96e4fdb04fb1b969c9681582829f05a2534c8d07862e2e"
   }
  }
 },
 "nbformat": 4,
 "nbformat_minor": 2
}
