{
 "cells": [
  {
   "cell_type": "code",
   "execution_count": 96,
   "metadata": {},
   "outputs": [],
   "source": [
    "#ライブラリをインポート\n",
    "import csv\n",
    "import math\n",
    "import matplotlib.pyplot as plt\n",
    "import numpy as np\n",
    "import pandas as pd"
   ]
  },
  {
   "cell_type": "code",
   "execution_count": 97,
   "metadata": {},
   "outputs": [],
   "source": [
    "#マクロを定義\n",
    "BINS = 10000  #ヒストグラムのビンの数\n",
    "EPSILON = .00001\n"
   ]
  },
  {
   "cell_type": "code",
   "execution_count": 98,
   "metadata": {},
   "outputs": [],
   "source": [
    "#KLダイバージェンス関数\n",
    "def KLD(a, b):\n",
    "    #a,bの最小値のより小さい方をmin_valueに\n",
    "    min_value = min(min(a), min(b))\n",
    "    #a,bの最大値のより大きい方をmax_valueに\n",
    "    max_value = max(max(a), max(b))\n",
    "\n",
    "    #a,bのヒストグラムを作成し、同じ数のビンで区切る\n",
    "    a_hist, _ = np.histogram(a, bins=BINS, range=(min_value, max_value))\n",
    "    b_hist, _ = np.histogram(b, bins=BINS, range=(min_value, max_value))\n",
    "\n",
    "    #正規化する(確率分布に変換する、合計を1にする)ために全合計で割る\n",
    "    a_hist = (a_hist + EPSILON) / a_hist.sum()\n",
    "    b_hist = (b_hist + EPSILON) / b_hist.sum()\n",
    "    #KLダイバージェンスの値を返す\n",
    "    return np.sum([ai * np.log(ai / bi) for ai, bi in zip(a_hist, b_hist)])"
   ]
  },
  {
   "cell_type": "code",
   "execution_count": 99,
   "metadata": {},
   "outputs": [],
   "source": [
    "#ファイルを読み込む\n",
    "filename = \"walk100Hz-0809-0900.csv\""
   ]
  },
  {
   "cell_type": "code",
   "execution_count": 100,
   "metadata": {},
   "outputs": [],
   "source": [
    "#CSVファイルから各軸の加速度を読み込むための変数\n",
    "accX = []\n",
    "accY = []\n",
    "accZ = []\n",
    "Hz = 100"
   ]
  },
  {
   "cell_type": "code",
   "execution_count": 101,
   "metadata": {},
   "outputs": [],
   "source": [
    "#ｘ軸,y軸,z軸の値を配列に格納\n",
    "with open(filename) as f:\n",
    "    reader = csv.reader(f)\n",
    "    for row in reader:\n",
    "        accX.append(float(row[1]))\n",
    "        accY.append(float(row[2]))\n",
    "        accZ.append(float(row[3]))"
   ]
  },
  {
   "cell_type": "code",
   "execution_count": 102,
   "metadata": {},
   "outputs": [],
   "source": [
    "#各軸の加速度の平均を求める\n",
    "aveX = sum(accX) / len(accX)\n",
    "aveY = sum(accY) / len(accY)\n",
    "aveZ = sum(accZ) / len(accZ)"
   ]
  },
  {
   "cell_type": "code",
   "execution_count": 103,
   "metadata": {},
   "outputs": [
    {
     "name": "stdout",
     "output_type": "stream",
     "text": [
      "33680826.00137324\n"
     ]
    }
   ],
   "source": [
    "#重力加速度の推定値=合成加速度の平均を求める\n",
    "aveAcc = math.sqrt(aveX ** 2 + aveY ** 2 + aveZ ** 2)\n",
    "print(aveAcc)"
   ]
  },
  {
   "cell_type": "code",
   "execution_count": 104,
   "metadata": {},
   "outputs": [],
   "source": [
    "#各時刻の合成加速度を求める\n",
    "acc = [math.sqrt(x ** 2 + y ** 2 + z ** 2) for x, y, z in zip(accX, accY, accZ)]"
   ]
  },
  {
   "cell_type": "code",
   "execution_count": 105,
   "metadata": {},
   "outputs": [
    {
     "name": "stdout",
     "output_type": "stream",
     "text": [
      "[32443943.12708283, 32443953.18853604, 32443963.305498004, 32443973.30363897, 32443983.340506032]\n"
     ]
    },
    {
     "data": {
      "text/plain": [
       "247378"
      ]
     },
     "execution_count": 105,
     "metadata": {},
     "output_type": "execute_result"
    }
   ],
   "source": [
    "print(acc[:5])\n",
    "len(acc)"
   ]
  },
  {
   "cell_type": "code",
   "execution_count": 106,
   "metadata": {},
   "outputs": [],
   "source": [
    "#各時刻の合成加速度から静止区間(重力加速度の推定値に近い値が5サンプル以上連続している区間)を除去する\n",
    "counter = 0\n",
    "n = 0\n",
    "for i, stop in enumerate(acc):\n",
    "    if stop < aveAcc * 1.1 and stop > aveAcc * 0.9:\n",
    "        counter += 1\n",
    "        if counter == 5:\n",
    "            del acc[n:n+5]\n",
    "            counter = 0\n",
    "            i -= 5\n",
    "    else:\n",
    "        counter = 0\n",
    "        n = i + 1"
   ]
  },
  {
   "cell_type": "code",
   "execution_count": 107,
   "metadata": {},
   "outputs": [
    {
     "name": "stdout",
     "output_type": "stream",
     "text": [
      "[33680841.05041182, 33680851.050547235, 33680861.05157532, 33680871.04480135, 33680881.04623065]\n"
     ]
    },
    {
     "data": {
      "text/plain": [
       "123688"
      ]
     },
     "execution_count": 107,
     "metadata": {},
     "output_type": "execute_result"
    }
   ],
   "source": [
    "print(acc[:5])\n",
    "len(acc)"
   ]
  },
  {
   "cell_type": "code",
   "execution_count": 108,
   "metadata": {},
   "outputs": [],
   "source": [
    "index = 0\n",
    "accDif = []\n",
    "for dif in acc[:-1]:\n",
    "    accDif.append(math.fabs(acc[index + 1]*100000 - acc[index]*100000))\n",
    "    index += 1"
   ]
  },
  {
   "cell_type": "code",
   "execution_count": 109,
   "metadata": {},
   "outputs": [
    {
     "name": "stdout",
     "output_type": "stream",
     "text": [
      "[1000013.5415039062, 1000102.8081054688, 999322.6030273438, 1000142.9301757812, 1000431.4565429688]\n"
     ]
    },
    {
     "data": {
      "text/plain": [
       "123687"
      ]
     },
     "execution_count": 109,
     "metadata": {},
     "output_type": "execute_result"
    }
   ],
   "source": [
    "print(accDif[:5])\n",
    "len(accDif)"
   ]
  },
  {
   "cell_type": "code",
   "execution_count": 110,
   "metadata": {},
   "outputs": [
    {
     "data": {
      "text/plain": [
       "0.0"
      ]
     },
     "execution_count": 110,
     "metadata": {},
     "output_type": "execute_result"
    }
   ],
   "source": [
    "KLD(accDif, accDif)"
   ]
  },
  {
   "cell_type": "code",
   "execution_count": null,
   "metadata": {},
   "outputs": [],
   "source": []
  }
 ],
 "metadata": {
  "kernelspec": {
   "display_name": "base",
   "language": "python",
   "name": "python3"
  },
  "language_info": {
   "codemirror_mode": {
    "name": "ipython",
    "version": 3
   },
   "file_extension": ".py",
   "mimetype": "text/x-python",
   "name": "python",
   "nbconvert_exporter": "python",
   "pygments_lexer": "ipython3",
   "version": "3.9.7"
  },
  "vscode": {
   "interpreter": {
    "hash": "919e6181955fbc636a96e4fdb04fb1b969c9681582829f05a2534c8d07862e2e"
   }
  }
 },
 "nbformat": 4,
 "nbformat_minor": 2
}
